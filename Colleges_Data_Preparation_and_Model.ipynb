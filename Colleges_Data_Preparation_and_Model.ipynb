{
 "cells": [
  {
   "cell_type": "markdown",
   "metadata": {},
   "source": [
    "### Data Cleaning"
   ]
  },
  {
   "cell_type": "code",
   "execution_count": 14,
   "metadata": {},
   "outputs": [
    {
     "name": "stdout",
     "output_type": "stream",
     "text": [
      "<class 'pandas.core.frame.DataFrame'>\n",
      "RangeIndex: 1558 entries, 0 to 1557\n",
      "Data columns (total 37 columns):\n",
      " #   Column                                Non-Null Count  Dtype  \n",
      "---  ------                                --------------  -----  \n",
      " 0   school_name                           1558 non-null   object \n",
      " 1   early_career_pay                      1558 non-null   int64  \n",
      " 2   mid_career_pay                        1558 non-null   int64  \n",
      " 3   meaning_percentage                    1558 non-null   int64  \n",
      " 4   stem_percentage                       1558 non-null   int64  \n",
      " 5   engineering                           1558 non-null   bool   \n",
      " 6   private_school                        1558 non-null   bool   \n",
      " 7   religious                             1558 non-null   bool   \n",
      " 8   art                                   1558 non-null   bool   \n",
      " 9   for_sports_fans                       1558 non-null   bool   \n",
      " 10  party_school                          1558 non-null   bool   \n",
      " 11  liberal_arts_school                   1558 non-null   bool   \n",
      " 12  state_school                          1558 non-null   bool   \n",
      " 13  research_university                   1558 non-null   bool   \n",
      " 14  business                              1558 non-null   bool   \n",
      " 15  sober_school                          1558 non-null   bool   \n",
      " 16  ivy_league                            1558 non-null   bool   \n",
      " 17  state_code                            1201 non-null   object \n",
      " 18  type                                  1201 non-null   object \n",
      " 19  degree_length                         1201 non-null   object \n",
      " 20  room_and_board                        1125 non-null   float64\n",
      " 21  in_state_tuition                      1201 non-null   float64\n",
      " 22  in_state_total                        1201 non-null   float64\n",
      " 23  out_of_state_tuition                  1201 non-null   float64\n",
      " 24  out_of_state_total                    1201 non-null   float64\n",
      " 25  total_enrollment                      1058 non-null   float64\n",
      " 26  AIAN_enrollment_percentage            1058 non-null   float64\n",
      " 27  Asian_enrollment_percentage           1058 non-null   float64\n",
      " 28  Black_enrollment_percentage           1058 non-null   float64\n",
      " 29  Hispanic_enrollment_percentage        1058 non-null   float64\n",
      " 30  NHPI_enrollment_percentage            1058 non-null   float64\n",
      " 31  non_resident_enrollment_percentage    1058 non-null   float64\n",
      " 32  total_minority_enrollment_percentage  1058 non-null   float64\n",
      " 33  unknown_enrollment_percentage         1058 non-null   float64\n",
      " 34  White_enrollment_percentage           1058 non-null   float64\n",
      " 35  women_enrollment_percentage           1058 non-null   float64\n",
      " 36  school_rank                           1558 non-null   object \n",
      "dtypes: bool(12), float64(16), int64(4), object(5)\n",
      "memory usage: 322.7+ KB\n"
     ]
    }
   ],
   "source": [
    "# Load the DataFrame\n",
    "import pandas as pd \n",
    "colleges_df = pd.read_csv('/Users/christianmoya/Documents/Flatiron/Phase_3/Phase_3_Project/colleges.csv')\n",
    "colleges_df.drop(columns=['Unnamed: 0'], inplace=True, axis=1)\n",
    "colleges_df.info()"
   ]
  },
  {
   "cell_type": "markdown",
   "metadata": {},
   "source": [
    "### Dealing with Null Values \n",
    "\n",
    "We find null values often where the DataFrames did not match, about 500 missing values for enrollment data, and about 300 missing values for tuition data. Room and board has about 400 missing values, but that data is also integrated into total tuition costs, so we'll get rid of that column. Since enrollment doesn't follow a normal distribution, I'm going to fill the null values with the median for each. "
   ]
  },
  {
   "cell_type": "code",
   "execution_count": 15,
   "metadata": {},
   "outputs": [],
   "source": [
    "# Drop unnecessary columns \n",
    "colleges_df.drop(columns=['school_name', 'mid_career_pay', 'room_and_board'], inplace=True)"
   ]
  },
  {
   "cell_type": "code",
   "execution_count": 16,
   "metadata": {},
   "outputs": [
    {
     "name": "stdout",
     "output_type": "stream",
     "text": [
      "<class 'pandas.core.frame.DataFrame'>\n",
      "Int64Index: 1201 entries, 0 to 1557\n",
      "Data columns (total 34 columns):\n",
      " #   Column                                Non-Null Count  Dtype  \n",
      "---  ------                                --------------  -----  \n",
      " 0   meaning_percentage                    1201 non-null   int64  \n",
      " 1   stem_percentage                       1201 non-null   int64  \n",
      " 2   engineering                           1201 non-null   bool   \n",
      " 3   private_school                        1201 non-null   bool   \n",
      " 4   religious                             1201 non-null   bool   \n",
      " 5   art                                   1201 non-null   bool   \n",
      " 6   for_sports_fans                       1201 non-null   bool   \n",
      " 7   party_school                          1201 non-null   bool   \n",
      " 8   liberal_arts_school                   1201 non-null   bool   \n",
      " 9   state_school                          1201 non-null   bool   \n",
      " 10  research_university                   1201 non-null   bool   \n",
      " 11  business                              1201 non-null   bool   \n",
      " 12  sober_school                          1201 non-null   bool   \n",
      " 13  ivy_league                            1201 non-null   bool   \n",
      " 14  state_code                            1201 non-null   object \n",
      " 15  type                                  1201 non-null   object \n",
      " 16  degree_length                         1201 non-null   object \n",
      " 17  in_state_tuition                      1201 non-null   float64\n",
      " 18  in_state_total                        1201 non-null   float64\n",
      " 19  out_of_state_tuition                  1201 non-null   float64\n",
      " 20  out_of_state_total                    1201 non-null   float64\n",
      " 21  total_enrollment                      1201 non-null   float64\n",
      " 22  AIAN_enrollment_percentage            1201 non-null   float64\n",
      " 23  Asian_enrollment_percentage           1201 non-null   float64\n",
      " 24  Black_enrollment_percentage           1201 non-null   float64\n",
      " 25  Hispanic_enrollment_percentage        1201 non-null   float64\n",
      " 26  NHPI_enrollment_percentage            1201 non-null   float64\n",
      " 27  non_resident_enrollment_percentage    1201 non-null   float64\n",
      " 28  total_minority_enrollment_percentage  1201 non-null   float64\n",
      " 29  unknown_enrollment_percentage         1201 non-null   float64\n",
      " 30  White_enrollment_percentage           1201 non-null   float64\n",
      " 31  women_enrollment_percentage           1201 non-null   float64\n",
      " 32  school_rank                           1201 non-null   object \n",
      " 33  over_60000                            1201 non-null   object \n",
      "dtypes: bool(12), float64(15), int64(2), object(5)\n",
      "memory usage: 229.9+ KB\n"
     ]
    }
   ],
   "source": [
    "# Fill in missing enrollment data \n",
    "enrollment = ['total_enrollment', 'AIAN_enrollment_percentage', 'Asian_enrollment_percentage', 'Black_enrollment_percentage','Hispanic_enrollment_percentage', 'NHPI_enrollment_percentage', 'non_resident_enrollment_percentage', 'total_minority_enrollment_percentage', 'unknown_enrollment_percentage', 'White_enrollment_percentage', 'women_enrollment_percentage']\n",
    "for enroll in enrollment:\n",
    "    colleges_df[enroll].fillna(colleges_df[enroll].median(), inplace=True)\n",
    "    \n",
    "colleges_df = colleges_df.dropna()\n",
    "\n",
    "# Finalize model, engineer target value\n",
    "colleges_df['over_60000'] = colleges_df['early_career_pay'] >= 60000\n",
    "colleges_df['over_60000'] = colleges_df['over_60000'].astype(str)\n",
    "colleges_df.drop(columns=['early_career_pay'], inplace=True)\n",
    "colleges_df.info()"
   ]
  },
  {
   "cell_type": "markdown",
   "metadata": {},
   "source": [
    "### Baseline Logistic Regression Model with Scikit Learn "
   ]
  },
  {
   "cell_type": "code",
   "execution_count": 19,
   "metadata": {},
   "outputs": [],
   "source": [
    "# import necessary libraries\n",
    "import statsmodels as sm \n",
    "import sklearn.preprocessing as preprocessing \n",
    "from sklearn.linear_model import LogisticRegression\n",
    "from sklearn.model_selection import train_test_split \n",
    "from scipy import stats\n",
    "\n",
    "X = colleges_df.drop(columns=['over_60000'], axis=1)\n",
    "X = pd.get_dummies(X, drop_first=True, dtype=float)\n",
    "\n",
    "y = pd.get_dummies(colleges_df['over_60000'], drop_first=True, dtype=float)\n",
    "y = y['True']"
   ]
  },
  {
   "cell_type": "code",
   "execution_count": 32,
   "metadata": {},
   "outputs": [],
   "source": [
    "bool_columns = ['engineering', 'private_school', 'religious', 'art', 'for_sports_fans', 'party_school', 'liberal_arts_school', 'state_school', 'research_university', 'business', 'sober_school', 'ivy_league']\n",
    "X[bool_columns] = X[bool_columns].astype(float)"
   ]
  },
  {
   "cell_type": "code",
   "execution_count": 33,
   "metadata": {},
   "outputs": [
    {
     "name": "stdout",
     "output_type": "stream",
     "text": [
      "<class 'pandas.core.frame.DataFrame'>\n",
      "Int64Index: 1201 entries, 0 to 1557\n",
      "Data columns (total 90 columns):\n",
      " #   Column                                Non-Null Count  Dtype  \n",
      "---  ------                                --------------  -----  \n",
      " 0   const                                 1201 non-null   float64\n",
      " 1   meaning_percentage                    1201 non-null   int64  \n",
      " 2   stem_percentage                       1201 non-null   int64  \n",
      " 3   engineering                           1201 non-null   float64\n",
      " 4   private_school                        1201 non-null   float64\n",
      " 5   religious                             1201 non-null   float64\n",
      " 6   art                                   1201 non-null   float64\n",
      " 7   for_sports_fans                       1201 non-null   float64\n",
      " 8   party_school                          1201 non-null   float64\n",
      " 9   liberal_arts_school                   1201 non-null   float64\n",
      " 10  state_school                          1201 non-null   float64\n",
      " 11  research_university                   1201 non-null   float64\n",
      " 12  business                              1201 non-null   float64\n",
      " 13  sober_school                          1201 non-null   float64\n",
      " 14  ivy_league                            1201 non-null   float64\n",
      " 15  in_state_tuition                      1201 non-null   float64\n",
      " 16  in_state_total                        1201 non-null   float64\n",
      " 17  out_of_state_tuition                  1201 non-null   float64\n",
      " 18  out_of_state_total                    1201 non-null   float64\n",
      " 19  total_enrollment                      1201 non-null   float64\n",
      " 20  AIAN_enrollment_percentage            1201 non-null   float64\n",
      " 21  Asian_enrollment_percentage           1201 non-null   float64\n",
      " 22  Black_enrollment_percentage           1201 non-null   float64\n",
      " 23  Hispanic_enrollment_percentage        1201 non-null   float64\n",
      " 24  NHPI_enrollment_percentage            1201 non-null   float64\n",
      " 25  non_resident_enrollment_percentage    1201 non-null   float64\n",
      " 26  total_minority_enrollment_percentage  1201 non-null   float64\n",
      " 27  unknown_enrollment_percentage         1201 non-null   float64\n",
      " 28  White_enrollment_percentage           1201 non-null   float64\n",
      " 29  women_enrollment_percentage           1201 non-null   float64\n",
      " 30  state_code_AL                         1201 non-null   float64\n",
      " 31  state_code_AR                         1201 non-null   float64\n",
      " 32  state_code_AZ                         1201 non-null   float64\n",
      " 33  state_code_CA                         1201 non-null   float64\n",
      " 34  state_code_CO                         1201 non-null   float64\n",
      " 35  state_code_CT                         1201 non-null   float64\n",
      " 36  state_code_DC                         1201 non-null   float64\n",
      " 37  state_code_DE                         1201 non-null   float64\n",
      " 38  state_code_FL                         1201 non-null   float64\n",
      " 39  state_code_GA                         1201 non-null   float64\n",
      " 40  state_code_HI                         1201 non-null   float64\n",
      " 41  state_code_IA                         1201 non-null   float64\n",
      " 42  state_code_ID                         1201 non-null   float64\n",
      " 43  state_code_IL                         1201 non-null   float64\n",
      " 44  state_code_IN                         1201 non-null   float64\n",
      " 45  state_code_KS                         1201 non-null   float64\n",
      " 46  state_code_KY                         1201 non-null   float64\n",
      " 47  state_code_LA                         1201 non-null   float64\n",
      " 48  state_code_MA                         1201 non-null   float64\n",
      " 49  state_code_MD                         1201 non-null   float64\n",
      " 50  state_code_ME                         1201 non-null   float64\n",
      " 51  state_code_MI                         1201 non-null   float64\n",
      " 52  state_code_MN                         1201 non-null   float64\n",
      " 53  state_code_MO                         1201 non-null   float64\n",
      " 54  state_code_MS                         1201 non-null   float64\n",
      " 55  state_code_MT                         1201 non-null   float64\n",
      " 56  state_code_NC                         1201 non-null   float64\n",
      " 57  state_code_ND                         1201 non-null   float64\n",
      " 58  state_code_NE                         1201 non-null   float64\n",
      " 59  state_code_NH                         1201 non-null   float64\n",
      " 60  state_code_NJ                         1201 non-null   float64\n",
      " 61  state_code_NM                         1201 non-null   float64\n",
      " 62  state_code_NV                         1201 non-null   float64\n",
      " 63  state_code_NY                         1201 non-null   float64\n",
      " 64  state_code_OH                         1201 non-null   float64\n",
      " 65  state_code_OK                         1201 non-null   float64\n",
      " 66  state_code_OR                         1201 non-null   float64\n",
      " 67  state_code_PA                         1201 non-null   float64\n",
      " 68  state_code_PR                         1201 non-null   float64\n",
      " 69  state_code_RI                         1201 non-null   float64\n",
      " 70  state_code_SC                         1201 non-null   float64\n",
      " 71  state_code_SD                         1201 non-null   float64\n",
      " 72  state_code_TN                         1201 non-null   float64\n",
      " 73  state_code_TX                         1201 non-null   float64\n",
      " 74  state_code_UT                         1201 non-null   float64\n",
      " 75  state_code_VA                         1201 non-null   float64\n",
      " 76  state_code_VI                         1201 non-null   float64\n",
      " 77  state_code_VT                         1201 non-null   float64\n",
      " 78  state_code_WA                         1201 non-null   float64\n",
      " 79  state_code_WI                         1201 non-null   float64\n",
      " 80  state_code_WV                         1201 non-null   float64\n",
      " 81  state_code_WY                         1201 non-null   float64\n",
      " 82  type_Private                          1201 non-null   float64\n",
      " 83  type_Public                           1201 non-null   float64\n",
      " 84  degree_length_4 Year                  1201 non-null   float64\n",
      " 85  school_rank_top_100                   1201 non-null   float64\n",
      " 86  school_rank_top_150                   1201 non-null   float64\n",
      " 87  school_rank_top_200                   1201 non-null   float64\n",
      " 88  school_rank_top_250                   1201 non-null   float64\n",
      " 89  school_rank_top_50                    1201 non-null   float64\n",
      "dtypes: float64(88), int64(2)\n",
      "memory usage: 853.8 KB\n"
     ]
    }
   ],
   "source": [
    "X.info()"
   ]
  },
  {
   "cell_type": "code",
   "execution_count": 34,
   "metadata": {},
   "outputs": [
    {
     "name": "stdout",
     "output_type": "stream",
     "text": [
      "Warning: Maximum number of iterations has been exceeded.\n",
      "         Current function value: inf\n",
      "         Iterations: 35\n"
     ]
    },
    {
     "name": "stderr",
     "output_type": "stream",
     "text": [
      "/opt/anaconda3/lib/python3.8/site-packages/statsmodels/discrete/discrete_model.py:1747: RuntimeWarning: overflow encountered in exp\n",
      "  return 1/(1+np.exp(-X))\n",
      "/opt/anaconda3/lib/python3.8/site-packages/statsmodels/discrete/discrete_model.py:1800: RuntimeWarning: divide by zero encountered in log\n",
      "  return np.sum(np.log(self.cdf(q*np.dot(X,params))))\n"
     ]
    },
    {
     "ename": "LinAlgError",
     "evalue": "Singular matrix",
     "output_type": "error",
     "traceback": [
      "\u001b[0;31m---------------------------------------------------------------------------\u001b[0m",
      "\u001b[0;31mLinAlgError\u001b[0m                               Traceback (most recent call last)",
      "\u001b[0;32m<ipython-input-34-5975256c4b80>\u001b[0m in \u001b[0;36m<module>\u001b[0;34m\u001b[0m\n\u001b[1;32m      1\u001b[0m \u001b[0mX\u001b[0m \u001b[0;34m=\u001b[0m \u001b[0msm\u001b[0m\u001b[0;34m.\u001b[0m\u001b[0mtools\u001b[0m\u001b[0;34m.\u001b[0m\u001b[0madd_constant\u001b[0m\u001b[0;34m(\u001b[0m\u001b[0mX\u001b[0m\u001b[0;34m)\u001b[0m\u001b[0;34m\u001b[0m\u001b[0;34m\u001b[0m\u001b[0m\n\u001b[1;32m      2\u001b[0m \u001b[0mlogit_model\u001b[0m \u001b[0;34m=\u001b[0m \u001b[0msm\u001b[0m\u001b[0;34m.\u001b[0m\u001b[0mdiscrete\u001b[0m\u001b[0;34m.\u001b[0m\u001b[0mdiscrete_model\u001b[0m\u001b[0;34m.\u001b[0m\u001b[0mLogit\u001b[0m\u001b[0;34m(\u001b[0m\u001b[0my\u001b[0m\u001b[0;34m,\u001b[0m \u001b[0mX\u001b[0m\u001b[0;34m)\u001b[0m\u001b[0;34m\u001b[0m\u001b[0;34m\u001b[0m\u001b[0m\n\u001b[0;32m----> 3\u001b[0;31m \u001b[0mresult\u001b[0m \u001b[0;34m=\u001b[0m \u001b[0mlogit_model\u001b[0m\u001b[0;34m.\u001b[0m\u001b[0mfit\u001b[0m\u001b[0;34m(\u001b[0m\u001b[0;34m)\u001b[0m\u001b[0;34m\u001b[0m\u001b[0;34m\u001b[0m\u001b[0m\n\u001b[0m",
      "\u001b[0;32m/opt/anaconda3/lib/python3.8/site-packages/statsmodels/discrete/discrete_model.py\u001b[0m in \u001b[0;36mfit\u001b[0;34m(self, start_params, method, maxiter, full_output, disp, callback, **kwargs)\u001b[0m\n\u001b[1;32m   1909\u001b[0m     def fit(self, start_params=None, method='newton', maxiter=35,\n\u001b[1;32m   1910\u001b[0m             full_output=1, disp=1, callback=None, **kwargs):\n\u001b[0;32m-> 1911\u001b[0;31m         bnryfit = super(Logit, self).fit(start_params=start_params,\n\u001b[0m\u001b[1;32m   1912\u001b[0m                 \u001b[0mmethod\u001b[0m\u001b[0;34m=\u001b[0m\u001b[0mmethod\u001b[0m\u001b[0;34m,\u001b[0m \u001b[0mmaxiter\u001b[0m\u001b[0;34m=\u001b[0m\u001b[0mmaxiter\u001b[0m\u001b[0;34m,\u001b[0m \u001b[0mfull_output\u001b[0m\u001b[0;34m=\u001b[0m\u001b[0mfull_output\u001b[0m\u001b[0;34m,\u001b[0m\u001b[0;34m\u001b[0m\u001b[0;34m\u001b[0m\u001b[0m\n\u001b[1;32m   1913\u001b[0m                 disp=disp, callback=callback, **kwargs)\n",
      "\u001b[0;32m/opt/anaconda3/lib/python3.8/site-packages/statsmodels/discrete/discrete_model.py\u001b[0m in \u001b[0;36mfit\u001b[0;34m(self, start_params, method, maxiter, full_output, disp, callback, **kwargs)\u001b[0m\n\u001b[1;32m    211\u001b[0m             \u001b[0;32mpass\u001b[0m  \u001b[0;31m# TODO: make a function factory to have multiple call-backs\u001b[0m\u001b[0;34m\u001b[0m\u001b[0;34m\u001b[0m\u001b[0m\n\u001b[1;32m    212\u001b[0m \u001b[0;34m\u001b[0m\u001b[0m\n\u001b[0;32m--> 213\u001b[0;31m         mlefit = super(DiscreteModel, self).fit(\n\u001b[0m\u001b[1;32m    214\u001b[0m             \u001b[0mstart_params\u001b[0m\u001b[0;34m=\u001b[0m\u001b[0mstart_params\u001b[0m\u001b[0;34m,\u001b[0m\u001b[0;34m\u001b[0m\u001b[0;34m\u001b[0m\u001b[0m\n\u001b[1;32m    215\u001b[0m             \u001b[0mmethod\u001b[0m\u001b[0;34m=\u001b[0m\u001b[0mmethod\u001b[0m\u001b[0;34m,\u001b[0m \u001b[0mmaxiter\u001b[0m\u001b[0;34m=\u001b[0m\u001b[0mmaxiter\u001b[0m\u001b[0;34m,\u001b[0m \u001b[0mfull_output\u001b[0m\u001b[0;34m=\u001b[0m\u001b[0mfull_output\u001b[0m\u001b[0;34m,\u001b[0m\u001b[0;34m\u001b[0m\u001b[0;34m\u001b[0m\u001b[0m\n",
      "\u001b[0;32m/opt/anaconda3/lib/python3.8/site-packages/statsmodels/base/model.py\u001b[0m in \u001b[0;36mfit\u001b[0;34m(self, start_params, method, maxiter, full_output, disp, fargs, callback, retall, skip_hessian, **kwargs)\u001b[0m\n\u001b[1;32m    531\u001b[0m             \u001b[0mHinv\u001b[0m \u001b[0;34m=\u001b[0m \u001b[0mcov_params_func\u001b[0m\u001b[0;34m(\u001b[0m\u001b[0mself\u001b[0m\u001b[0;34m,\u001b[0m \u001b[0mxopt\u001b[0m\u001b[0;34m,\u001b[0m \u001b[0mretvals\u001b[0m\u001b[0;34m)\u001b[0m\u001b[0;34m\u001b[0m\u001b[0;34m\u001b[0m\u001b[0m\n\u001b[1;32m    532\u001b[0m         \u001b[0;32melif\u001b[0m \u001b[0mmethod\u001b[0m \u001b[0;34m==\u001b[0m \u001b[0;34m'newton'\u001b[0m \u001b[0;32mand\u001b[0m \u001b[0mfull_output\u001b[0m\u001b[0;34m:\u001b[0m\u001b[0;34m\u001b[0m\u001b[0;34m\u001b[0m\u001b[0m\n\u001b[0;32m--> 533\u001b[0;31m             \u001b[0mHinv\u001b[0m \u001b[0;34m=\u001b[0m \u001b[0mnp\u001b[0m\u001b[0;34m.\u001b[0m\u001b[0mlinalg\u001b[0m\u001b[0;34m.\u001b[0m\u001b[0minv\u001b[0m\u001b[0;34m(\u001b[0m\u001b[0;34m-\u001b[0m\u001b[0mretvals\u001b[0m\u001b[0;34m[\u001b[0m\u001b[0;34m'Hessian'\u001b[0m\u001b[0;34m]\u001b[0m\u001b[0;34m)\u001b[0m \u001b[0;34m/\u001b[0m \u001b[0mnobs\u001b[0m\u001b[0;34m\u001b[0m\u001b[0;34m\u001b[0m\u001b[0m\n\u001b[0m\u001b[1;32m    534\u001b[0m         \u001b[0;32melif\u001b[0m \u001b[0;32mnot\u001b[0m \u001b[0mskip_hessian\u001b[0m\u001b[0;34m:\u001b[0m\u001b[0;34m\u001b[0m\u001b[0;34m\u001b[0m\u001b[0m\n\u001b[1;32m    535\u001b[0m             \u001b[0mH\u001b[0m \u001b[0;34m=\u001b[0m \u001b[0;34m-\u001b[0m\u001b[0;36m1\u001b[0m \u001b[0;34m*\u001b[0m \u001b[0mself\u001b[0m\u001b[0;34m.\u001b[0m\u001b[0mhessian\u001b[0m\u001b[0;34m(\u001b[0m\u001b[0mxopt\u001b[0m\u001b[0;34m)\u001b[0m\u001b[0;34m\u001b[0m\u001b[0;34m\u001b[0m\u001b[0m\n",
      "\u001b[0;32m<__array_function__ internals>\u001b[0m in \u001b[0;36minv\u001b[0;34m(*args, **kwargs)\u001b[0m\n",
      "\u001b[0;32m/opt/anaconda3/lib/python3.8/site-packages/numpy/linalg/linalg.py\u001b[0m in \u001b[0;36minv\u001b[0;34m(a)\u001b[0m\n\u001b[1;32m    545\u001b[0m     \u001b[0msignature\u001b[0m \u001b[0;34m=\u001b[0m \u001b[0;34m'D->D'\u001b[0m \u001b[0;32mif\u001b[0m \u001b[0misComplexType\u001b[0m\u001b[0;34m(\u001b[0m\u001b[0mt\u001b[0m\u001b[0;34m)\u001b[0m \u001b[0;32melse\u001b[0m \u001b[0;34m'd->d'\u001b[0m\u001b[0;34m\u001b[0m\u001b[0;34m\u001b[0m\u001b[0m\n\u001b[1;32m    546\u001b[0m     \u001b[0mextobj\u001b[0m \u001b[0;34m=\u001b[0m \u001b[0mget_linalg_error_extobj\u001b[0m\u001b[0;34m(\u001b[0m\u001b[0m_raise_linalgerror_singular\u001b[0m\u001b[0;34m)\u001b[0m\u001b[0;34m\u001b[0m\u001b[0;34m\u001b[0m\u001b[0m\n\u001b[0;32m--> 547\u001b[0;31m     \u001b[0mainv\u001b[0m \u001b[0;34m=\u001b[0m \u001b[0m_umath_linalg\u001b[0m\u001b[0;34m.\u001b[0m\u001b[0minv\u001b[0m\u001b[0;34m(\u001b[0m\u001b[0ma\u001b[0m\u001b[0;34m,\u001b[0m \u001b[0msignature\u001b[0m\u001b[0;34m=\u001b[0m\u001b[0msignature\u001b[0m\u001b[0;34m,\u001b[0m \u001b[0mextobj\u001b[0m\u001b[0;34m=\u001b[0m\u001b[0mextobj\u001b[0m\u001b[0;34m)\u001b[0m\u001b[0;34m\u001b[0m\u001b[0;34m\u001b[0m\u001b[0m\n\u001b[0m\u001b[1;32m    548\u001b[0m     \u001b[0;32mreturn\u001b[0m \u001b[0mwrap\u001b[0m\u001b[0;34m(\u001b[0m\u001b[0mainv\u001b[0m\u001b[0;34m.\u001b[0m\u001b[0mastype\u001b[0m\u001b[0;34m(\u001b[0m\u001b[0mresult_t\u001b[0m\u001b[0;34m,\u001b[0m \u001b[0mcopy\u001b[0m\u001b[0;34m=\u001b[0m\u001b[0;32mFalse\u001b[0m\u001b[0;34m)\u001b[0m\u001b[0;34m)\u001b[0m\u001b[0;34m\u001b[0m\u001b[0;34m\u001b[0m\u001b[0m\n\u001b[1;32m    549\u001b[0m \u001b[0;34m\u001b[0m\u001b[0m\n",
      "\u001b[0;32m/opt/anaconda3/lib/python3.8/site-packages/numpy/linalg/linalg.py\u001b[0m in \u001b[0;36m_raise_linalgerror_singular\u001b[0;34m(err, flag)\u001b[0m\n\u001b[1;32m     95\u001b[0m \u001b[0;34m\u001b[0m\u001b[0m\n\u001b[1;32m     96\u001b[0m \u001b[0;32mdef\u001b[0m \u001b[0m_raise_linalgerror_singular\u001b[0m\u001b[0;34m(\u001b[0m\u001b[0merr\u001b[0m\u001b[0;34m,\u001b[0m \u001b[0mflag\u001b[0m\u001b[0;34m)\u001b[0m\u001b[0;34m:\u001b[0m\u001b[0;34m\u001b[0m\u001b[0;34m\u001b[0m\u001b[0m\n\u001b[0;32m---> 97\u001b[0;31m     \u001b[0;32mraise\u001b[0m \u001b[0mLinAlgError\u001b[0m\u001b[0;34m(\u001b[0m\u001b[0;34m\"Singular matrix\"\u001b[0m\u001b[0;34m)\u001b[0m\u001b[0;34m\u001b[0m\u001b[0;34m\u001b[0m\u001b[0m\n\u001b[0m\u001b[1;32m     98\u001b[0m \u001b[0;34m\u001b[0m\u001b[0m\n\u001b[1;32m     99\u001b[0m \u001b[0;32mdef\u001b[0m \u001b[0m_raise_linalgerror_nonposdef\u001b[0m\u001b[0;34m(\u001b[0m\u001b[0merr\u001b[0m\u001b[0;34m,\u001b[0m \u001b[0mflag\u001b[0m\u001b[0;34m)\u001b[0m\u001b[0;34m:\u001b[0m\u001b[0;34m\u001b[0m\u001b[0;34m\u001b[0m\u001b[0m\n",
      "\u001b[0;31mLinAlgError\u001b[0m: Singular matrix"
     ]
    }
   ],
   "source": [
    "X = sm.tools.add_constant(X)\n",
    "logit_model = sm.discrete.discrete_model.Logit(y, X)\n",
    "result = logit_model.fit()"
   ]
  },
  {
   "cell_type": "code",
   "execution_count": 30,
   "metadata": {},
   "outputs": [
    {
     "name": "stdout",
     "output_type": "stream",
     "text": [
      "<class 'pandas.core.frame.DataFrame'>\n",
      "Int64Index: 1201 entries, 0 to 1557\n",
      "Data columns (total 90 columns):\n",
      " #   Column                                Non-Null Count  Dtype  \n",
      "---  ------                                --------------  -----  \n",
      " 0   const                                 1201 non-null   float64\n",
      " 1   meaning_percentage                    1201 non-null   int64  \n",
      " 2   stem_percentage                       1201 non-null   int64  \n",
      " 3   engineering                           1201 non-null   bool   \n",
      " 4   private_school                        1201 non-null   bool   \n",
      " 5   religious                             1201 non-null   bool   \n",
      " 6   art                                   1201 non-null   bool   \n",
      " 7   for_sports_fans                       1201 non-null   bool   \n",
      " 8   party_school                          1201 non-null   bool   \n",
      " 9   liberal_arts_school                   1201 non-null   bool   \n",
      " 10  state_school                          1201 non-null   bool   \n",
      " 11  research_university                   1201 non-null   bool   \n",
      " 12  business                              1201 non-null   bool   \n",
      " 13  sober_school                          1201 non-null   bool   \n",
      " 14  ivy_league                            1201 non-null   bool   \n",
      " 15  in_state_tuition                      1201 non-null   float64\n",
      " 16  in_state_total                        1201 non-null   float64\n",
      " 17  out_of_state_tuition                  1201 non-null   float64\n",
      " 18  out_of_state_total                    1201 non-null   float64\n",
      " 19  total_enrollment                      1201 non-null   float64\n",
      " 20  AIAN_enrollment_percentage            1201 non-null   float64\n",
      " 21  Asian_enrollment_percentage           1201 non-null   float64\n",
      " 22  Black_enrollment_percentage           1201 non-null   float64\n",
      " 23  Hispanic_enrollment_percentage        1201 non-null   float64\n",
      " 24  NHPI_enrollment_percentage            1201 non-null   float64\n",
      " 25  non_resident_enrollment_percentage    1201 non-null   float64\n",
      " 26  total_minority_enrollment_percentage  1201 non-null   float64\n",
      " 27  unknown_enrollment_percentage         1201 non-null   float64\n",
      " 28  White_enrollment_percentage           1201 non-null   float64\n",
      " 29  women_enrollment_percentage           1201 non-null   float64\n",
      " 30  state_code_AL                         1201 non-null   float64\n",
      " 31  state_code_AR                         1201 non-null   float64\n",
      " 32  state_code_AZ                         1201 non-null   float64\n",
      " 33  state_code_CA                         1201 non-null   float64\n",
      " 34  state_code_CO                         1201 non-null   float64\n",
      " 35  state_code_CT                         1201 non-null   float64\n",
      " 36  state_code_DC                         1201 non-null   float64\n",
      " 37  state_code_DE                         1201 non-null   float64\n",
      " 38  state_code_FL                         1201 non-null   float64\n",
      " 39  state_code_GA                         1201 non-null   float64\n",
      " 40  state_code_HI                         1201 non-null   float64\n",
      " 41  state_code_IA                         1201 non-null   float64\n",
      " 42  state_code_ID                         1201 non-null   float64\n",
      " 43  state_code_IL                         1201 non-null   float64\n",
      " 44  state_code_IN                         1201 non-null   float64\n",
      " 45  state_code_KS                         1201 non-null   float64\n",
      " 46  state_code_KY                         1201 non-null   float64\n",
      " 47  state_code_LA                         1201 non-null   float64\n",
      " 48  state_code_MA                         1201 non-null   float64\n",
      " 49  state_code_MD                         1201 non-null   float64\n",
      " 50  state_code_ME                         1201 non-null   float64\n",
      " 51  state_code_MI                         1201 non-null   float64\n",
      " 52  state_code_MN                         1201 non-null   float64\n",
      " 53  state_code_MO                         1201 non-null   float64\n",
      " 54  state_code_MS                         1201 non-null   float64\n",
      " 55  state_code_MT                         1201 non-null   float64\n",
      " 56  state_code_NC                         1201 non-null   float64\n",
      " 57  state_code_ND                         1201 non-null   float64\n",
      " 58  state_code_NE                         1201 non-null   float64\n",
      " 59  state_code_NH                         1201 non-null   float64\n",
      " 60  state_code_NJ                         1201 non-null   float64\n",
      " 61  state_code_NM                         1201 non-null   float64\n",
      " 62  state_code_NV                         1201 non-null   float64\n",
      " 63  state_code_NY                         1201 non-null   float64\n",
      " 64  state_code_OH                         1201 non-null   float64\n",
      " 65  state_code_OK                         1201 non-null   float64\n",
      " 66  state_code_OR                         1201 non-null   float64\n",
      " 67  state_code_PA                         1201 non-null   float64\n",
      " 68  state_code_PR                         1201 non-null   float64\n",
      " 69  state_code_RI                         1201 non-null   float64\n",
      " 70  state_code_SC                         1201 non-null   float64\n",
      " 71  state_code_SD                         1201 non-null   float64\n",
      " 72  state_code_TN                         1201 non-null   float64\n",
      " 73  state_code_TX                         1201 non-null   float64\n",
      " 74  state_code_UT                         1201 non-null   float64\n",
      " 75  state_code_VA                         1201 non-null   float64\n",
      " 76  state_code_VI                         1201 non-null   float64\n",
      " 77  state_code_VT                         1201 non-null   float64\n",
      " 78  state_code_WA                         1201 non-null   float64\n",
      " 79  state_code_WI                         1201 non-null   float64\n",
      " 80  state_code_WV                         1201 non-null   float64\n",
      " 81  state_code_WY                         1201 non-null   float64\n",
      " 82  type_Private                          1201 non-null   float64\n",
      " 83  type_Public                           1201 non-null   float64\n",
      " 84  degree_length_4 Year                  1201 non-null   float64\n",
      " 85  school_rank_top_100                   1201 non-null   float64\n",
      " 86  school_rank_top_150                   1201 non-null   float64\n",
      " 87  school_rank_top_200                   1201 non-null   float64\n",
      " 88  school_rank_top_250                   1201 non-null   float64\n",
      " 89  school_rank_top_50                    1201 non-null   float64\n",
      "dtypes: bool(12), float64(76), int64(2)\n",
      "memory usage: 755.3 KB\n"
     ]
    }
   ],
   "source": [
    "npl"
   ]
  },
  {
   "cell_type": "code",
   "execution_count": 28,
   "metadata": {},
   "outputs": [
    {
     "data": {
      "text/plain": [
       "array([1., 1., 1., ..., 0., 0., 0.])"
      ]
     },
     "execution_count": 28,
     "metadata": {},
     "output_type": "execute_result"
    }
   ],
   "source": [
    "np.asarray(y)"
   ]
  },
  {
   "cell_type": "markdown",
   "metadata": {},
   "source": [
    "### Building a Model with Statsmodel"
   ]
  },
  {
   "cell_type": "code",
   "execution_count": 4,
   "metadata": {},
   "outputs": [
    {
     "ename": "NameError",
     "evalue": "name 'colleges_log' is not defined",
     "output_type": "error",
     "traceback": [
      "\u001b[0;31m---------------------------------------------------------------------------\u001b[0m",
      "\u001b[0;31mNameError\u001b[0m                                 Traceback (most recent call last)",
      "\u001b[0;32m<ipython-input-4-fe1b8c970d9b>\u001b[0m in \u001b[0;36m<module>\u001b[0;34m\u001b[0m\n\u001b[1;32m     16\u001b[0m \u001b[0;34m\u001b[0m\u001b[0m\n\u001b[1;32m     17\u001b[0m \u001b[0;34m\u001b[0m\u001b[0m\n\u001b[0;32m---> 18\u001b[0;31m \u001b[0mcolleges_log_norm\u001b[0m \u001b[0;34m=\u001b[0m \u001b[0mcolleges_log\u001b[0m\u001b[0;34m.\u001b[0m\u001b[0mapply\u001b[0m\u001b[0;34m(\u001b[0m\u001b[0mnormalize\u001b[0m\u001b[0;34m)\u001b[0m\u001b[0;34m\u001b[0m\u001b[0;34m\u001b[0m\u001b[0m\n\u001b[0m",
      "\u001b[0;31mNameError\u001b[0m: name 'colleges_log' is not defined"
     ]
    }
   ],
   "source": [
    "# import library\n",
    "import statsmodels.api as sm\n",
    "import numpy as np\n",
    "\n",
    "X = colleges_df['over_60000']\n",
    "X_ = sm.add_constant(X)\n",
    "y = colleges_df.drop(columns=[''])\n",
    "\n",
    "# Change booleans into categorical values\n",
    "#school_types = ['engineering', 'private_school', 'religious', 'art', 'for_sports_fans', 'party_school', 'liberal_arts_school', 'state_school' , 'research_university', 'business', 'sober_school', 'ivy_league']\n",
    "#colleges_df[school_types] = colleges_df[school_types].astype(int)\n",
    "\n",
    "# Prepare data for model  \n",
    "#continuous = ['meaning_percentage', 'stem_percentage', 'in_state_tuition', 'in_state_total', 'out_of_state_tuition', 'out_of_state_total', 'total_enrollment', 'AIAN_enrollment_percentage', 'Asian_enrollment_percentage', 'Black_enrollment_percentage', 'Hispanic_enrollment_percentage', 'NHPI_enrollment_percentage', 'non_resident_enrollment_percentage', 'unknown_enrollment_percentage', 'White_enrollment_percentage', 'women_enrollment_percentage']\n",
    "#categoricals = ['engineering', 'private_school', 'religious', 'art', 'for_sports_fans', 'party_school', 'liberal_arts_school', 'state_school', 'research_university', 'business', 'sober_school', 'ivy_league', 'state_code', 'type', 'degree_length', 'school_rank']\n",
    "\n",
    "\n",
    "\n",
    "# normalize (subract mean and divide by std)\n",
    "\n",
    "\n",
    "colleges_log_norm = colleges_log.apply(normalize)"
   ]
  },
  {
   "cell_type": "code",
   "execution_count": null,
   "metadata": {},
   "outputs": [],
   "source": []
  },
  {
   "cell_type": "code",
   "execution_count": 6,
   "metadata": {},
   "outputs": [
    {
     "name": "stdout",
     "output_type": "stream",
     "text": [
      "<class 'pandas.core.frame.DataFrame'>\n",
      "Int64Index: 1201 entries, 0 to 1557\n",
      "Data columns (total 34 columns):\n",
      " #   Column                                Non-Null Count  Dtype  \n",
      "---  ------                                --------------  -----  \n",
      " 0   meaning_percentage                    1201 non-null   int64  \n",
      " 1   stem_percentage                       1201 non-null   int64  \n",
      " 2   engineering                           1201 non-null   int64  \n",
      " 3   private_school                        1201 non-null   int64  \n",
      " 4   religious                             1201 non-null   int64  \n",
      " 5   art                                   1201 non-null   int64  \n",
      " 6   for_sports_fans                       1201 non-null   int64  \n",
      " 7   party_school                          1201 non-null   int64  \n",
      " 8   liberal_arts_school                   1201 non-null   int64  \n",
      " 9   state_school                          1201 non-null   int64  \n",
      " 10  research_university                   1201 non-null   int64  \n",
      " 11  business                              1201 non-null   int64  \n",
      " 12  sober_school                          1201 non-null   int64  \n",
      " 13  ivy_league                            1201 non-null   int64  \n",
      " 14  state_code                            1201 non-null   object \n",
      " 15  type                                  1201 non-null   object \n",
      " 16  degree_length                         1201 non-null   object \n",
      " 17  in_state_tuition                      1201 non-null   float64\n",
      " 18  in_state_total                        1201 non-null   float64\n",
      " 19  out_of_state_tuition                  1201 non-null   float64\n",
      " 20  out_of_state_total                    1201 non-null   float64\n",
      " 21  total_enrollment                      1201 non-null   float64\n",
      " 22  AIAN_enrollment_percentage            1201 non-null   float64\n",
      " 23  Asian_enrollment_percentage           1201 non-null   float64\n",
      " 24  Black_enrollment_percentage           1201 non-null   float64\n",
      " 25  Hispanic_enrollment_percentage        1201 non-null   float64\n",
      " 26  NHPI_enrollment_percentage            1201 non-null   float64\n",
      " 27  non_resident_enrollment_percentage    1201 non-null   float64\n",
      " 28  total_minority_enrollment_percentage  1201 non-null   float64\n",
      " 29  unknown_enrollment_percentage         1201 non-null   float64\n",
      " 30  White_enrollment_percentage           1201 non-null   float64\n",
      " 31  women_enrollment_percentage           1201 non-null   float64\n",
      " 32  school_rank                           1201 non-null   object \n",
      " 33  over_60000                            1201 non-null   bool   \n",
      "dtypes: bool(1), float64(15), int64(14), object(4)\n",
      "memory usage: 320.2+ KB\n"
     ]
    }
   ],
   "source": [
    "colleges_df.info()"
   ]
  },
  {
   "cell_type": "code",
   "execution_count": null,
   "metadata": {},
   "outputs": [],
   "source": [
    "# Categorical Variable \n",
    "colleges_ohe = pd.get_dummies(colleges_df[categoricals], prefix=categoricals, drop_first=True)"
   ]
  },
  {
   "cell_type": "code",
   "execution_count": null,
   "metadata": {},
   "outputs": [],
   "source": [
    "colleges_ohe"
   ]
  },
  {
   "cell_type": "code",
   "execution_count": null,
   "metadata": {},
   "outputs": [],
   "source": [
    "colleges_df['over_60000'] = colleges_df['over_60000'].astype(int)"
   ]
  },
  {
   "cell_type": "code",
   "execution_count": null,
   "metadata": {},
   "outputs": [],
   "source": [
    "preprocessed_colleges = pd.concat([colleges_log_norm, colleges_ohe])\n",
    "preprocessed_colleges.info()"
   ]
  },
  {
   "cell_type": "code",
   "execution_count": null,
   "metadata": {},
   "outputs": [],
   "source": [
    "X_train = colleges_ohe \n",
    "y_train = colleges_df['over_60000']\n",
    "\n",
    "log_reg = sm.Logit(y_train, X_train).fit()"
   ]
  },
  {
   "cell_type": "code",
   "execution_count": null,
   "metadata": {},
   "outputs": [],
   "source": []
  }
 ],
 "metadata": {
  "kernelspec": {
   "display_name": "learn-env",
   "language": "python",
   "name": "learn-env"
  },
  "language_info": {
   "codemirror_mode": {
    "name": "ipython",
    "version": 3
   },
   "file_extension": ".py",
   "mimetype": "text/x-python",
   "name": "python",
   "nbconvert_exporter": "python",
   "pygments_lexer": "ipython3",
   "version": "3.8.3"
  }
 },
 "nbformat": 4,
 "nbformat_minor": 4
}
