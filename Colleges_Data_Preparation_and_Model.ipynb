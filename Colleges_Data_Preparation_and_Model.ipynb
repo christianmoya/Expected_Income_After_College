{
 "cells": [
  {
   "cell_type": "markdown",
   "metadata": {},
   "source": [
    "### Data Cleaning"
   ]
  },
  {
   "cell_type": "code",
   "execution_count": 1,
   "metadata": {},
   "outputs": [
    {
     "name": "stdout",
     "output_type": "stream",
     "text": [
      "<class 'pandas.core.frame.DataFrame'>\n",
      "RangeIndex: 1558 entries, 0 to 1557\n",
      "Data columns (total 37 columns):\n",
      " #   Column                                Non-Null Count  Dtype  \n",
      "---  ------                                --------------  -----  \n",
      " 0   school_name                           1558 non-null   object \n",
      " 1   early_career_pay                      1558 non-null   int64  \n",
      " 2   mid_career_pay                        1558 non-null   int64  \n",
      " 3   meaning_percentage                    1558 non-null   int64  \n",
      " 4   stem_percentage                       1558 non-null   int64  \n",
      " 5   engineering                           1558 non-null   bool   \n",
      " 6   private_school                        1558 non-null   bool   \n",
      " 7   religious                             1558 non-null   bool   \n",
      " 8   art                                   1558 non-null   bool   \n",
      " 9   for_sports_fans                       1558 non-null   bool   \n",
      " 10  party_school                          1558 non-null   bool   \n",
      " 11  liberal_arts_school                   1558 non-null   bool   \n",
      " 12  state_school                          1558 non-null   bool   \n",
      " 13  research_university                   1558 non-null   bool   \n",
      " 14  business                              1558 non-null   bool   \n",
      " 15  sober_school                          1558 non-null   bool   \n",
      " 16  ivy_league                            1558 non-null   bool   \n",
      " 17  state_code                            1201 non-null   object \n",
      " 18  type                                  1201 non-null   object \n",
      " 19  degree_length                         1201 non-null   object \n",
      " 20  room_and_board                        1125 non-null   float64\n",
      " 21  in_state_tuition                      1201 non-null   float64\n",
      " 22  in_state_total                        1201 non-null   float64\n",
      " 23  out_of_state_tuition                  1201 non-null   float64\n",
      " 24  out_of_state_total                    1201 non-null   float64\n",
      " 25  total_enrollment                      1058 non-null   float64\n",
      " 26  AIAN_enrollment_percentage            1058 non-null   float64\n",
      " 27  Asian_enrollment_percentage           1058 non-null   float64\n",
      " 28  Black_enrollment_percentage           1058 non-null   float64\n",
      " 29  Hispanic_enrollment_percentage        1058 non-null   float64\n",
      " 30  NHPI_enrollment_percentage            1058 non-null   float64\n",
      " 31  non_resident_enrollment_percentage    1058 non-null   float64\n",
      " 32  total_minority_enrollment_percentage  1058 non-null   float64\n",
      " 33  unknown_enrollment_percentage         1058 non-null   float64\n",
      " 34  White_enrollment_percentage           1058 non-null   float64\n",
      " 35  women_enrollment_percentage           1058 non-null   float64\n",
      " 36  school_rank                           1558 non-null   object \n",
      "dtypes: bool(12), float64(16), int64(4), object(5)\n",
      "memory usage: 322.7+ KB\n"
     ]
    }
   ],
   "source": [
    "# Load the DataFrame\n",
    "import pandas as pd \n",
    "colleges_df = pd.read_csv('/Users/christianmoya/Documents/Flatiron/Phase_3/Phase_3_Project/colleges.csv')\n",
    "colleges_df.drop(columns=['Unnamed: 0'], inplace=True, axis=1)\n",
    "colleges_df.info()"
   ]
  },
  {
   "cell_type": "markdown",
   "metadata": {},
   "source": [
    "### Dealing with Null Values \n",
    "\n",
    "We find null values often where the DataFrames did not match, about 500 missing values for enrollment data, and about 300 missing values for tuition data. Room and board has about 400 missing values, but that data is also integrated into total tuition costs, so we'll get rid of that column. Since enrollment doesn't follow a normal distribution, I'm going to fill the null values with the median for each. "
   ]
  },
  {
   "cell_type": "code",
   "execution_count": 2,
   "metadata": {},
   "outputs": [],
   "source": [
    "# Drop unnecessary columns \n",
    "colleges_df.drop(columns=['school_name', 'mid_career_pay', 'room_and_board'], inplace=True)"
   ]
  },
  {
   "cell_type": "code",
   "execution_count": 3,
   "metadata": {
    "scrolled": true
   },
   "outputs": [
    {
     "name": "stdout",
     "output_type": "stream",
     "text": [
      "<class 'pandas.core.frame.DataFrame'>\n",
      "Int64Index: 1201 entries, 0 to 1557\n",
      "Data columns (total 34 columns):\n",
      " #   Column                                Non-Null Count  Dtype  \n",
      "---  ------                                --------------  -----  \n",
      " 0   meaning_percentage                    1201 non-null   int64  \n",
      " 1   stem_percentage                       1201 non-null   int64  \n",
      " 2   engineering                           1201 non-null   bool   \n",
      " 3   private_school                        1201 non-null   bool   \n",
      " 4   religious                             1201 non-null   bool   \n",
      " 5   art                                   1201 non-null   bool   \n",
      " 6   for_sports_fans                       1201 non-null   bool   \n",
      " 7   party_school                          1201 non-null   bool   \n",
      " 8   liberal_arts_school                   1201 non-null   bool   \n",
      " 9   state_school                          1201 non-null   bool   \n",
      " 10  research_university                   1201 non-null   bool   \n",
      " 11  business                              1201 non-null   bool   \n",
      " 12  sober_school                          1201 non-null   bool   \n",
      " 13  ivy_league                            1201 non-null   bool   \n",
      " 14  state_code                            1201 non-null   object \n",
      " 15  type                                  1201 non-null   object \n",
      " 16  degree_length                         1201 non-null   object \n",
      " 17  in_state_tuition                      1201 non-null   float64\n",
      " 18  in_state_total                        1201 non-null   float64\n",
      " 19  out_of_state_tuition                  1201 non-null   float64\n",
      " 20  out_of_state_total                    1201 non-null   float64\n",
      " 21  total_enrollment                      1201 non-null   float64\n",
      " 22  AIAN_enrollment_percentage            1201 non-null   float64\n",
      " 23  Asian_enrollment_percentage           1201 non-null   float64\n",
      " 24  Black_enrollment_percentage           1201 non-null   float64\n",
      " 25  Hispanic_enrollment_percentage        1201 non-null   float64\n",
      " 26  NHPI_enrollment_percentage            1201 non-null   float64\n",
      " 27  non_resident_enrollment_percentage    1201 non-null   float64\n",
      " 28  total_minority_enrollment_percentage  1201 non-null   float64\n",
      " 29  unknown_enrollment_percentage         1201 non-null   float64\n",
      " 30  White_enrollment_percentage           1201 non-null   float64\n",
      " 31  women_enrollment_percentage           1201 non-null   float64\n",
      " 32  school_rank                           1201 non-null   object \n",
      " 33  over_60000                            1201 non-null   int64  \n",
      "dtypes: bool(12), float64(15), int64(3), object(4)\n",
      "memory usage: 229.9+ KB\n"
     ]
    }
   ],
   "source": [
    "# Fill in missing enrollment data \n",
    "enrollment = ['total_enrollment', 'AIAN_enrollment_percentage', 'Asian_enrollment_percentage', 'Black_enrollment_percentage','Hispanic_enrollment_percentage', 'NHPI_enrollment_percentage', 'non_resident_enrollment_percentage', 'total_minority_enrollment_percentage', 'unknown_enrollment_percentage', 'White_enrollment_percentage', 'women_enrollment_percentage']\n",
    "for enroll in enrollment:\n",
    "    colleges_df[enroll].fillna(colleges_df[enroll].median(), inplace=True)\n",
    "    \n",
    "colleges_df = colleges_df.dropna()\n",
    "\n",
    "# Finalize model, engineer target value\n",
    "colleges_df['over_60000'] = colleges_df['early_career_pay'] >= 60000\n",
    "colleges_df['over_60000'] = colleges_df['over_60000'].astype(int)\n",
    "colleges_df.drop(columns=['early_career_pay'], inplace=True)\n",
    "colleges_df.info()"
   ]
  },
  {
   "cell_type": "markdown",
   "metadata": {},
   "source": [
    "### Baseline Logistic Regression Model with Scikit Learn "
   ]
  },
  {
   "cell_type": "code",
   "execution_count": 4,
   "metadata": {},
   "outputs": [],
   "source": [
    "# import necessary libraries\n",
    "import statsmodels as sm \n",
    "import sklearn.preprocessing as preprocessing \n",
    "from sklearn.linear_model import LogisticRegression\n",
    "from sklearn.model_selection import train_test_split \n",
    "from scipy import stats\n",
    "\n",
    "X = colleges_df.drop(columns=['over_60000'], axis=1)\n",
    "X = pd.get_dummies(X, drop_first=True, dtype=float)\n",
    "\n",
    "y = colleges_df['over_60000'].astype(float)\n",
    "\n",
    "X_train, X_test, y_train, y_test = train_test_split(X, y, test_size=0.25, random_state=42)"
   ]
  },
  {
   "cell_type": "code",
   "execution_count": 5,
   "metadata": {},
   "outputs": [],
   "source": [
    "# Fit model \n",
    "logreg = LogisticRegression(fit_intercept=False, C=1e12, solver='liblinear')\n",
    "model_log = logreg.fit(X_train, y_train) "
   ]
  },
  {
   "cell_type": "code",
   "execution_count": 6,
   "metadata": {},
   "outputs": [
    {
     "data": {
      "text/plain": [
       "array([[783,  28],\n",
       "       [ 56,  33]])"
      ]
     },
     "execution_count": 6,
     "metadata": {},
     "output_type": "execute_result"
    }
   ],
   "source": [
    "# Check confusion matrix \n",
    "y_hat_test = logreg.predict(X_test)\n",
    "y_hat_train = logreg.predict(X_train)\n",
    "\n",
    "from sklearn.metrics import confusion_matrix\n",
    "cf = confusion_matrix(y_train, y_hat_train)\n",
    "cf"
   ]
  },
  {
   "cell_type": "code",
   "execution_count": 7,
   "metadata": {},
   "outputs": [
    {
     "data": {
      "text/plain": [
       "<sklearn.metrics._plot.confusion_matrix.ConfusionMatrixDisplay at 0x7f84686d5730>"
      ]
     },
     "execution_count": 7,
     "metadata": {},
     "output_type": "execute_result"
    },
    {
     "data": {
      "image/png": "[encoded data removed]",
      "text/plain": [
       "<Figure size 432x288 with 2 Axes>"
      ]
     },
     "metadata": {
      "needs_background": "light"
     },
     "output_type": "display_data"
    }
   ],
   "source": [
    "# Plot confusion matrix \n",
    "from sklearn.metrics import plot_confusion_matrix \n",
    "plot_confusion_matrix(logreg, X_test, y_test)"
   ]
  },
  {
   "cell_type": "code",
   "execution_count": 8,
   "metadata": {},
   "outputs": [
    {
     "name": "stdout",
     "output_type": "stream",
     "text": [
      "Training AUC: 0.7960259529602595\n"
     ]
    }
   ],
   "source": [
    "# Calculate AUC \n",
    "from sklearn.metrics import roc_curve, auc\n",
    "y_score = logreg.fit(X_train, y_train).decision_function(X_test)\n",
    "train_fpr, train_tpr, thresholds = roc_curve(y_test, y_score)\n",
    "print('Training AUC: {}'.format(auc(train_fpr, train_tpr)))"
   ]
  },
  {
   "cell_type": "code",
   "execution_count": 9,
   "metadata": {},
   "outputs": [
    {
     "name": "stdout",
     "output_type": "stream",
     "text": [
      "Test Accuracy Score:  0.9102990033222591\n",
      "Train Accuracy Score:  0.9066666666666666\n",
      "\n",
      "\n",
      "Test Precision Score:  0.5\n",
      "Train Precision Score:  0.5409836065573771\n",
      "\n",
      "\n",
      "Test Recall Score:  0.2222222222222222\n",
      "Train Recall Score:  0.3707865168539326\n",
      "\n",
      "\n",
      "Test F1 Score:  0.30769230769230765\n",
      "Train F1 Score:  0.44\n"
     ]
    }
   ],
   "source": [
    "# Print out scores \n",
    "from sklearn.metrics import accuracy_score, precision_score, recall_score, f1_score\n",
    "print('Test Accuracy Score: ', accuracy_score(y_test, y_hat_test))\n",
    "print('Train Accuracy Score: ', accuracy_score(y_train, y_hat_train))\n",
    "print('\\n')\n",
    "print('Test Precision Score: ', precision_score(y_test, y_hat_test))\n",
    "print('Train Precision Score: ', precision_score(y_train, y_hat_train))\n",
    "print('\\n')\n",
    "print('Test Recall Score: ', recall_score(y_test, y_hat_test))\n",
    "print('Train Recall Score: ', recall_score(y_train, y_hat_train))\n",
    "print('\\n')\n",
    "print('Test F1 Score: ', f1_score(y_test, y_hat_test))\n",
    "print('Train F1 Score: ', f1_score(y_train, y_hat_train))"
   ]
  },
  {
   "cell_type": "markdown",
   "metadata": {},
   "source": [
    "Scores here are very low, it's actually worse than just guessing. This may be because I filled in a large chunk of null values with the median. It's probably not generating the right information. Below, we'll try addressing it. We'll have a smaller data set, but it will contain more accurate information. "
   ]
  },
  {
   "cell_type": "markdown",
   "metadata": {},
   "source": [
    "### DataFrame Removing Null Values"
   ]
  },
  {
   "cell_type": "code",
   "execution_count": 10,
   "metadata": {},
   "outputs": [
    {
     "name": "stdout",
     "output_type": "stream",
     "text": [
      "<class 'pandas.core.frame.DataFrame'>\n",
      "Int64Index: 960 entries, 0 to 1557\n",
      "Data columns (total 36 columns):\n",
      " #   Column                                Non-Null Count  Dtype  \n",
      "---  ------                                --------------  -----  \n",
      " 0   early_career_pay                      960 non-null    int64  \n",
      " 1   meaning_percentage                    960 non-null    int64  \n",
      " 2   stem_percentage                       960 non-null    int64  \n",
      " 3   engineering                           960 non-null    bool   \n",
      " 4   private_school                        960 non-null    bool   \n",
      " 5   religious                             960 non-null    bool   \n",
      " 6   art                                   960 non-null    bool   \n",
      " 7   for_sports_fans                       960 non-null    bool   \n",
      " 8   party_school                          960 non-null    bool   \n",
      " 9   liberal_arts_school                   960 non-null    bool   \n",
      " 10  state_school                          960 non-null    bool   \n",
      " 11  research_university                   960 non-null    bool   \n",
      " 12  business                              960 non-null    bool   \n",
      " 13  sober_school                          960 non-null    bool   \n",
      " 14  ivy_league                            960 non-null    bool   \n",
      " 15  state_code                            960 non-null    object \n",
      " 16  type                                  960 non-null    object \n",
      " 17  degree_length                         960 non-null    object \n",
      " 18  room_and_board                        960 non-null    float64\n",
      " 19  in_state_tuition                      960 non-null    float64\n",
      " 20  in_state_total                        960 non-null    float64\n",
      " 21  out_of_state_tuition                  960 non-null    float64\n",
      " 22  out_of_state_total                    960 non-null    float64\n",
      " 23  total_enrollment                      960 non-null    float64\n",
      " 24  AIAN_enrollment_percentage            960 non-null    float64\n",
      " 25  Asian_enrollment_percentage           960 non-null    float64\n",
      " 26  Black_enrollment_percentage           960 non-null    float64\n",
      " 27  Hispanic_enrollment_percentage        960 non-null    float64\n",
      " 28  NHPI_enrollment_percentage            960 non-null    float64\n",
      " 29  non_resident_enrollment_percentage    960 non-null    float64\n",
      " 30  total_minority_enrollment_percentage  960 non-null    float64\n",
      " 31  unknown_enrollment_percentage         960 non-null    float64\n",
      " 32  White_enrollment_percentage           960 non-null    float64\n",
      " 33  women_enrollment_percentage           960 non-null    float64\n",
      " 34  school_rank                           960 non-null    object \n",
      " 35  over_60000                            960 non-null    bool   \n",
      "dtypes: bool(13), float64(16), int64(3), object(4)\n",
      "memory usage: 192.2+ KB\n"
     ]
    }
   ],
   "source": [
    "# Create new copy of DataFrame \n",
    "df = pd.read_csv('/Users/christianmoya/Documents/Flatiron/Phase_3/Phase_3_Project/colleges.csv')\n",
    "df = df.dropna()\n",
    "df.drop(columns=['Unnamed: 0', 'school_name', 'mid_career_pay'], inplace=True)\n",
    "df['over_60000'] = df['early_career_pay'] >= 60000\n",
    "df.info()"
   ]
  },
  {
   "cell_type": "code",
   "execution_count": 11,
   "metadata": {},
   "outputs": [],
   "source": [
    "# Define features and target \n",
    "X = df.drop(columns=['early_career_pay', 'over_60000'], axis=1)\n",
    "X = pd.get_dummies(X, drop_first=True)\n",
    "y = df['over_60000']\n",
    "\n",
    "# Split into train and test \n",
    "X_train, X_test, y_train, y_test = train_test_split(X, y, test_size=0.25, random_state=42)\n",
    "\n",
    "# Fit model \n",
    "logreg = LogisticRegression(fit_intercept=False, C=1e12, solver='liblinear')\n",
    "model_log = logreg.fit(X_train, y_train)"
   ]
  },
  {
   "cell_type": "code",
   "execution_count": 12,
   "metadata": {},
   "outputs": [
    {
     "data": {
      "text/plain": [
       "array([[636,  12],\n",
       "       [ 34,  38]])"
      ]
     },
     "execution_count": 12,
     "metadata": {},
     "output_type": "execute_result"
    }
   ],
   "source": [
    "y_hat_test = logreg.predict(X_test)\n",
    "y_hat_train = logreg.predict(X_train)\n",
    "\n",
    "from sklearn.metrics import confusion_matrix \n",
    "cf = confusion_matrix(y_train, y_hat_train)\n",
    "cf"
   ]
  },
  {
   "cell_type": "code",
   "execution_count": 13,
   "metadata": {},
   "outputs": [
    {
     "data": {
      "text/plain": [
       "<sklearn.metrics._plot.confusion_matrix.ConfusionMatrixDisplay at 0x7f846aad8070>"
      ]
     },
     "execution_count": 13,
     "metadata": {},
     "output_type": "execute_result"
    },
    {
     "data": {
      "image/png": "[encoded data removed]",
      "text/plain": [
       "<Figure size 432x288 with 2 Axes>"
      ]
     },
     "metadata": {
      "needs_background": "light"
     },
     "output_type": "display_data"
    }
   ],
   "source": [
    "from sklearn.metrics import plot_confusion_matrix \n",
    "plot_confusion_matrix(logreg, X_test, y_test)"
   ]
  },
  {
   "cell_type": "code",
   "execution_count": 14,
   "metadata": {},
   "outputs": [
    {
     "name": "stdout",
     "output_type": "stream",
     "text": [
      "Training AUC: 0.9073488372093024\n"
     ]
    }
   ],
   "source": [
    "from sklearn.metrics import roc_curve, auc\n",
    "y_score = logreg.fit(X_train, y_train).decision_function(X_test)\n",
    "train_fpr, train_tpr, thresholds = roc_curve(y_test, y_score)\n",
    "print('Training AUC: {}'.format(auc(train_fpr, train_tpr)))"
   ]
  },
  {
   "cell_type": "code",
   "execution_count": 15,
   "metadata": {},
   "outputs": [
    {
     "name": "stdout",
     "output_type": "stream",
     "text": [
      "Training AUC: 0.9073488372093024\n"
     ]
    },
    {
     "data": {
      "image/png": "[encoded data removed]",
      "text/plain": [
       "<Figure size 360x288 with 1 Axes>"
      ]
     },
     "metadata": {},
     "output_type": "display_data"
    }
   ],
   "source": [
    "# Seaborn's beautiful styling\n",
    "import seaborn as sns\n",
    "import matplotlib.pyplot as plt \n",
    "\n",
    "sns.set_style('darkgrid', {'axes.facecolor': '0.9'})\n",
    "\n",
    "# ROC curve for training set\n",
    "ax1 = plt.figure(figsize=(5, 4))\n",
    "lw = 2\n",
    "plt.plot(train_fpr, train_tpr, color='darkorange',\n",
    "         lw=lw, label='ROC curve')\n",
    "plt.plot([0, 1], [0, 1], color='navy', lw=lw, linestyle='--')\n",
    "plt.xlim([0.0, 1.0])\n",
    "plt.ylim([0.0, 1.05])\n",
    "plt.yticks([i/20.0 for i in range(21)])\n",
    "plt.xticks([i/20.0 for i in range(21)])\n",
    "plt.xlabel('False Positive Rate')\n",
    "plt.ylabel('True Positive Rate')\n",
    "plt.title('Receiver operating characteristic (ROC) Curve for Training Set')\n",
    "plt.legend(loc='lower right')\n",
    "print('Training AUC: {}'.format(auc(train_fpr, train_tpr)))\n",
    "plt.show()"
   ]
  },
  {
   "cell_type": "code",
   "execution_count": 16,
   "metadata": {},
   "outputs": [
    {
     "name": "stdout",
     "output_type": "stream",
     "text": [
      "Test Accuracy Score:  0.9166666666666666\n",
      "Train Accuracy Score:  0.9361111111111111\n",
      "\n",
      "\n",
      "Test Precision Score:  0.631578947368421\n",
      "Train Precision Score:  0.76\n",
      "\n",
      "\n",
      "Test Recall Score:  0.48\n",
      "Train Recall Score:  0.5277777777777778\n",
      "\n",
      "\n",
      "Test F1 Score:  0.5454545454545454\n",
      "Train F1 Score:  0.6229508196721312\n"
     ]
    }
   ],
   "source": [
    "from sklearn.metrics import accuracy_score, precision_score, recall_score, f1_score\n",
    "print('Test Accuracy Score: ', accuracy_score(y_test, y_hat_test))\n",
    "print('Train Accuracy Score: ', accuracy_score(y_train, y_hat_train))\n",
    "print('\\n')\n",
    "print('Test Precision Score: ', precision_score(y_test, y_hat_test))\n",
    "print('Train Precision Score: ', precision_score(y_train, y_hat_train))\n",
    "print('\\n')\n",
    "print('Test Recall Score: ', recall_score(y_test, y_hat_test))\n",
    "print('Train Recall Score: ', recall_score(y_train, y_hat_train))\n",
    "print('\\n')\n",
    "print('Test F1 Score: ', f1_score(y_test, y_hat_test))\n",
    "print('Train F1 Score: ', f1_score(y_train, y_hat_train))"
   ]
  },
  {
   "cell_type": "markdown",
   "metadata": {},
   "source": [
    "We find that AUC score has gone up from .79 to .90, a significat jump. Recall and F1 score are still pretty low in this case. "
   ]
  },
  {
   "cell_type": "markdown",
   "metadata": {},
   "source": [
    "### Iterations - Checking for Best Test Size"
   ]
  },
  {
   "cell_type": "code",
   "execution_count": 17,
   "metadata": {},
   "outputs": [
    {
     "name": "stderr",
     "output_type": "stream",
     "text": [
      "/opt/anaconda3/lib/python3.8/site-packages/sklearn/metrics/_classification.py:1221: UndefinedMetricWarning: Precision is ill-defined and being set to 0.0 due to no predicted samples. Use `zero_division` parameter to control this behavior.\n",
      "  _warn_prf(average, modifier, msg_start, len(result))\n",
      "/opt/anaconda3/lib/python3.8/site-packages/sklearn/metrics/_classification.py:1221: UndefinedMetricWarning: Precision is ill-defined and being set to 0.0 due to no predicted samples. Use `zero_division` parameter to control this behavior.\n",
      "  _warn_prf(average, modifier, msg_start, len(result))\n"
     ]
    }
   ],
   "source": [
    "training_precision = []\n",
    "testing_precision = []\n",
    "training_recall = []\n",
    "testing_recall = []\n",
    "training_accuracy = []\n",
    "testing_accuracy = []\n",
    "training_f1 = []\n",
    "testing_f1 = []\n",
    "\n",
    "for i in range(10, 95):\n",
    "    X_train, X_test, y_train, y_test = train_test_split(X, y, test_size=i/100.0)\n",
    "    logreg = LogisticRegression(fit_intercept=False, C=1e25, solver='liblinear')\n",
    "    model_log = logreg.fit(X_train, y_train)\n",
    "    y_hat_test = logreg.predict(X_test)\n",
    "    y_hat_train = logreg.predict(X_train)\n",
    "\n",
    "    training_precision.append(precision_score(y_train, y_hat_train))\n",
    "    testing_precision.append(precision_score(y_test, y_hat_test))\n",
    "    training_recall.append(recall_score(y_train, y_hat_train))\n",
    "    testing_recall.append(recall_score(y_test, y_hat_test))\n",
    "    training_accuracy.append(accuracy_score(y_train, y_hat_train))\n",
    "    testing_accuracy.append(accuracy_score(y_test, y_hat_test))\n",
    "    training_f1.append(f1_score(y_train, y_hat_train))\n",
    "    testing_f1.append(f1_score(y_test, y_hat_test))"
   ]
  },
  {
   "cell_type": "code",
   "execution_count": 18,
   "metadata": {},
   "outputs": [
    {
     "data": {
      "image/png": "[encoded data removed]",
      "text/plain": [
       "<Figure size 432x288 with 1 Axes>"
      ]
     },
     "metadata": {},
     "output_type": "display_data"
    }
   ],
   "source": [
    "# Train and test precision\n",
    "plt.plot(list(range(10, 95)), training_precision, label='training_precision')\n",
    "plt.plot(list(range(10, 95)), testing_precision, label='testing_precision')\n",
    "plt.legend()\n",
    "plt.show()"
   ]
  },
  {
   "cell_type": "code",
   "execution_count": 19,
   "metadata": {},
   "outputs": [
    {
     "data": {
      "image/png": "[encoded data removed]",
      "text/plain": [
       "<Figure size 432x288 with 1 Axes>"
      ]
     },
     "metadata": {},
     "output_type": "display_data"
    }
   ],
   "source": [
    "# Train and test recall\n",
    "plt.plot(list(range(10, 95)), training_recall, label='training_recall')\n",
    "plt.plot(list(range(10, 95)), testing_recall, label='testing_recall')\n",
    "plt.legend()\n",
    "plt.show()"
   ]
  },
  {
   "cell_type": "code",
   "execution_count": 20,
   "metadata": {},
   "outputs": [
    {
     "data": {
      "image/png": "[encoded data removed]",
      "text/plain": [
       "<Figure size 432x288 with 1 Axes>"
      ]
     },
     "metadata": {},
     "output_type": "display_data"
    }
   ],
   "source": [
    "plt.plot(list(range(10, 95)), training_accuracy, label='training_accuracy')\n",
    "plt.plot(list(range(10, 95)), testing_accuracy, label='testing_accuracy')\n",
    "plt.legend()\n",
    "plt.show()"
   ]
  },
  {
   "cell_type": "code",
   "execution_count": 21,
   "metadata": {},
   "outputs": [
    {
     "data": {
      "image/png": "[encoded data removed]",
      "text/plain": [
       "<Figure size 432x288 with 1 Axes>"
      ]
     },
     "metadata": {},
     "output_type": "display_data"
    }
   ],
   "source": [
    "plt.plot(list(range(10, 95)), training_f1, label='training_f1')\n",
    "plt.plot(list(range(10, 95)), testing_f1, label='testing_f1')\n",
    "plt.legend()\n",
    "plt.show()"
   ]
  },
  {
   "cell_type": "markdown",
   "metadata": {},
   "source": [
    "Based on our plots, it looks that training and test scores are closer in proximity and higher when established at a training size of .65. This helps eliminate overfitting."
   ]
  },
  {
   "cell_type": "code",
   "execution_count": 22,
   "metadata": {},
   "outputs": [],
   "source": [
    "# Change train size to 65 and see if it improves model \n",
    "X_train, X_test, y_train, y_test = train_test_split(X, y, train_size=0.72, random_state=42)\n",
    "\n",
    "# Fit model \n",
    "logreg = LogisticRegression(fit_intercept=False, C=1e12, solver='liblinear')\n",
    "model_log = logreg.fit(X_train, y_train)"
   ]
  },
  {
   "cell_type": "code",
   "execution_count": 23,
   "metadata": {},
   "outputs": [
    {
     "name": "stdout",
     "output_type": "stream",
     "text": [
      "Training AUC: 0.8826318909306461\n"
     ]
    }
   ],
   "source": [
    "# Calculate AUC \n",
    "y_score = logreg.fit(X_train, y_train).decision_function(X_test)\n",
    "train_fpr, train_tpr, thresholds = roc_curve(y_test, y_score)\n",
    "print('Training AUC: {}'.format(auc(train_fpr, train_tpr)))"
   ]
  },
  {
   "cell_type": "code",
   "execution_count": 24,
   "metadata": {},
   "outputs": [
    {
     "name": "stdout",
     "output_type": "stream",
     "text": [
      "Training AUC: 0.8826318909306461\n"
     ]
    },
    {
     "data": {
      "image/png": "[encoded data removed]",
      "text/plain": [
       "<Figure size 360x288 with 1 Axes>"
      ]
     },
     "metadata": {},
     "output_type": "display_data"
    }
   ],
   "source": [
    "# ROC curve for training set\n",
    "ax1 = plt.figure(figsize=(5, 4))\n",
    "lw = 2\n",
    "plt.plot(train_fpr, train_tpr, color='darkorange',\n",
    "         lw=lw, label='ROC curve')\n",
    "plt.plot([0, 1], [0, 1], color='navy', lw=lw, linestyle='--')\n",
    "plt.xlim([0.0, 1.0])\n",
    "plt.ylim([0.0, 1.05])\n",
    "plt.yticks([i/20.0 for i in range(21)])\n",
    "plt.xticks([i/20.0 for i in range(21)])\n",
    "plt.xlabel('False Positive Rate')\n",
    "plt.ylabel('True Positive Rate')\n",
    "plt.title('Receiver operating characteristic (ROC) Curve for Training Set')\n",
    "plt.legend(loc='lower right')\n",
    "print('Training AUC: {}'.format(auc(train_fpr, train_tpr)))\n",
    "plt.show()"
   ]
  },
  {
   "cell_type": "code",
   "execution_count": 25,
   "metadata": {},
   "outputs": [
    {
     "data": {
      "text/plain": [
       "array([[609,  13],\n",
       "       [ 36,  33]])"
      ]
     },
     "execution_count": 25,
     "metadata": {},
     "output_type": "execute_result"
    }
   ],
   "source": [
    "# Show new confusion matrix\n",
    "y_hat_test = logreg.predict(X_test)\n",
    "y_hat_train = logreg.predict(X_train)\n",
    "\n",
    "from sklearn.metrics import confusion_matrix \n",
    "cf = confusion_matrix(y_train, y_hat_train)\n",
    "cf"
   ]
  },
  {
   "cell_type": "code",
   "execution_count": 26,
   "metadata": {},
   "outputs": [
    {
     "data": {
      "text/plain": [
       "<sklearn.metrics._plot.confusion_matrix.ConfusionMatrixDisplay at 0x7f846b1433a0>"
      ]
     },
     "execution_count": 26,
     "metadata": {},
     "output_type": "execute_result"
    },
    {
     "data": {
      "image/png": "[encoded data removed]",
      "text/plain": [
       "<Figure size 432x288 with 2 Axes>"
      ]
     },
     "metadata": {},
     "output_type": "display_data"
    }
   ],
   "source": [
    "plot_confusion_matrix(logreg, X_test, y_test)"
   ]
  },
  {
   "cell_type": "code",
   "execution_count": 27,
   "metadata": {},
   "outputs": [
    {
     "name": "stdout",
     "output_type": "stream",
     "text": [
      "Test Accuracy Score:  0.8996282527881041\n",
      "Train Accuracy Score:  0.9290882778581766\n",
      "\n",
      "\n",
      "Test Precision Score:  0.5217391304347826\n",
      "Train Precision Score:  0.717391304347826\n",
      "\n",
      "\n",
      "Test Recall Score:  0.42857142857142855\n",
      "Train Recall Score:  0.4782608695652174\n",
      "\n",
      "\n",
      "Test F1 Score:  0.47058823529411764\n",
      "Train F1 Score:  0.5739130434782609\n"
     ]
    }
   ],
   "source": [
    "from sklearn.metrics import accuracy_score, precision_score, recall_score, f1_score\n",
    "print('Test Accuracy Score: ', accuracy_score(y_test, y_hat_test))\n",
    "print('Train Accuracy Score: ', accuracy_score(y_train, y_hat_train))\n",
    "print('\\n')\n",
    "print('Test Precision Score: ', precision_score(y_test, y_hat_test))\n",
    "print('Train Precision Score: ', precision_score(y_train, y_hat_train))\n",
    "print('\\n')\n",
    "print('Test Recall Score: ', recall_score(y_test, y_hat_test))\n",
    "print('Train Recall Score: ', recall_score(y_train, y_hat_train))\n",
    "print('\\n')\n",
    "print('Test F1 Score: ', f1_score(y_test, y_hat_test))\n",
    "print('Train F1 Score: ', f1_score(y_train, y_hat_train))"
   ]
  },
  {
   "cell_type": "markdown",
   "metadata": {},
   "source": [
    "I played with a number of test sizes, but recall seems to stick at the 72% range. We'll work with different class sizes and see if this helps at all. "
   ]
  },
  {
   "cell_type": "markdown",
   "metadata": {},
   "source": [
    "### Dealing with Class Imbalance\n",
    "\n",
    "Based on our EDA, we know that about 10% of colleges fall under our over 60,000. We'll need to balance this out and perhaps this will help with our recall score. "
   ]
  },
  {
   "cell_type": "code",
   "execution_count": 28,
   "metadata": {},
   "outputs": [
    {
     "name": "stdout",
     "output_type": "stream",
     "text": [
      "LogisticRegression(C=1e+20, fit_intercept=False)\n",
      "AUC for None: 0.8850029638411381\n",
      "-------------------------------------------------------------------------------------\n",
      "LogisticRegression(C=1e+20, class_weight='balanced', fit_intercept=False)\n",
      "AUC for Balanced: 0.8970065204505039\n",
      "-------------------------------------------------------------------------------------\n",
      "LogisticRegression(C=1e+20, class_weight={0: 1, 1: 2}, fit_intercept=False)\n",
      "AUC for 2 to 1: 0.8626259632483699\n",
      "-------------------------------------------------------------------------------------\n",
      "LogisticRegression(C=1e+20, class_weight={0: 1, 1: 10}, fit_intercept=False)\n",
      "AUC for 10 to 1: 0.8974510966212211\n",
      "-------------------------------------------------------------------------------------\n",
      "LogisticRegression(C=1e+20, class_weight={0: 1, 1: 100}, fit_intercept=False)\n",
      "AUC for 100 to 1: 0.8974510966212211\n",
      "-------------------------------------------------------------------------------------\n"
     ]
    },
    {
     "name": "stderr",
     "output_type": "stream",
     "text": [
      "/opt/anaconda3/lib/python3.8/site-packages/sklearn/linear_model/_logistic.py:762: ConvergenceWarning: lbfgs failed to converge (status=1):\n",
      "STOP: TOTAL NO. of ITERATIONS REACHED LIMIT.\n",
      "\n",
      "Increase the number of iterations (max_iter) or scale the data as shown in:\n",
      "    https://scikit-learn.org/stable/modules/preprocessing.html\n",
      "Please also refer to the documentation for alternative solver options:\n",
      "    https://scikit-learn.org/stable/modules/linear_model.html#logistic-regression\n",
      "  n_iter_i = _check_optimize_result(\n",
      "/opt/anaconda3/lib/python3.8/site-packages/sklearn/linear_model/_logistic.py:762: ConvergenceWarning: lbfgs failed to converge (status=1):\n",
      "STOP: TOTAL NO. of ITERATIONS REACHED LIMIT.\n",
      "\n",
      "Increase the number of iterations (max_iter) or scale the data as shown in:\n",
      "    https://scikit-learn.org/stable/modules/preprocessing.html\n",
      "Please also refer to the documentation for alternative solver options:\n",
      "    https://scikit-learn.org/stable/modules/linear_model.html#logistic-regression\n",
      "  n_iter_i = _check_optimize_result(\n"
     ]
    },
    {
     "name": "stdout",
     "output_type": "stream",
     "text": [
      "LogisticRegression(C=1e+20, class_weight={0: 1, 1: 1000}, fit_intercept=False)\n",
      "AUC for 1000 to 1: 0.8891523414344991\n",
      "-------------------------------------------------------------------------------------\n"
     ]
    },
    {
     "data": {
      "image/png": "[encoded data removed]",
      "text/plain": [
       "<Figure size 720x576 with 1 Axes>"
      ]
     },
     "metadata": {},
     "output_type": "display_data"
    }
   ],
   "source": [
    "# Change weights \n",
    "weights = [None, 'balanced', {1:2, 0:1}, {1:10, 0:1}, {1:100, 0:1}, {1:1000, 0:1}]\n",
    "names = ['None', 'Balanced', '2 to 1', '10 to 1', '100 to 1', '1000 to 1']\n",
    "colors = sns.color_palette('Set2')\n",
    "\n",
    "plt.figure(figsize=(10,8))\n",
    "\n",
    "for n, weight in enumerate(weights):\n",
    "    # Fit a model\n",
    "    logreg = LogisticRegression(fit_intercept=False, C=1e20, class_weight=weight, solver='lbfgs')\n",
    "    model_log = logreg.fit(X_train, y_train)\n",
    "    print(model_log)\n",
    "\n",
    "    # Predict\n",
    "    y_hat_test = logreg.predict(X_test)\n",
    "\n",
    "    y_score = logreg.fit(X_train, y_train).decision_function(X_test)\n",
    "\n",
    "    fpr, tpr, thresholds = roc_curve(y_test, y_score)\n",
    "    \n",
    "    print('AUC for {}: {}'.format(names[n], auc(fpr, tpr)))\n",
    "    print('-------------------------------------------------------------------------------------')\n",
    "    lw = 2\n",
    "    plt.plot(fpr, tpr, color=colors[n],\n",
    "             lw=lw, label='ROC curve {}'.format(names[n]))\n",
    "\n",
    "plt.plot([0, 1], [0, 1], color='navy', lw=lw, linestyle='--')\n",
    "plt.xlim([0.0, 1.0])\n",
    "plt.ylim([0.0, 1.05])\n",
    "\n",
    "plt.yticks([i/20.0 for i in range(21)])\n",
    "plt.xticks([i/20.0 for i in range(21)])\n",
    "plt.xlabel('False Positive Rate')\n",
    "plt.ylabel('True Positive Rate')\n",
    "plt.title('Receiver operating characteristic (ROC) Curve')\n",
    "plt.legend(loc='lower right')\n",
    "plt.show()"
   ]
  },
  {
   "cell_type": "markdown",
   "metadata": {},
   "source": [
    "ROC is highest when the class weight is 1000 to 1, with a score of .908."
   ]
  },
  {
   "cell_type": "code",
   "execution_count": 29,
   "metadata": {},
   "outputs": [],
   "source": [
    "X_train, X_test, y_train, y_test = train_test_split(X, y, train_size=0.60, random_state=42)"
   ]
  },
  {
   "cell_type": "code",
   "execution_count": 30,
   "metadata": {},
   "outputs": [],
   "source": [
    "logreg = LogisticRegression(fit_intercept=False, C=1e20, class_weight={1:1000, 0:1}, solver='lbfgs')\n",
    "model_log = logreg.fit(X_train, y_train)"
   ]
  },
  {
   "cell_type": "code",
   "execution_count": 31,
   "metadata": {},
   "outputs": [
    {
     "name": "stdout",
     "output_type": "stream",
     "text": [
      "Training AUC: 0.9083410367631374\n"
     ]
    }
   ],
   "source": [
    "# Calculate AUC \n",
    "y_score = logreg.fit(X_train, y_train).decision_function(X_test)\n",
    "train_fpr, train_tpr, thresholds = roc_curve(y_test, y_score)\n",
    "print('Training AUC: {}'.format(auc(train_fpr, train_tpr)))"
   ]
  },
  {
   "cell_type": "code",
   "execution_count": 32,
   "metadata": {},
   "outputs": [
    {
     "data": {
      "text/plain": [
       "array([[  7, 513],\n",
       "       [  0,  56]])"
      ]
     },
     "execution_count": 32,
     "metadata": {},
     "output_type": "execute_result"
    }
   ],
   "source": [
    "y_hat_test = logreg.predict(X_test)\n",
    "y_hat_train = logreg.predict(X_train)\n",
    "\n",
    "from sklearn.metrics import confusion_matrix \n",
    "cf = confusion_matrix(y_train, y_hat_train)\n",
    "cf"
   ]
  },
  {
   "cell_type": "code",
   "execution_count": 33,
   "metadata": {},
   "outputs": [
    {
     "data": {
      "text/plain": [
       "<sklearn.metrics._plot.confusion_matrix.ConfusionMatrixDisplay at 0x7f846bdc4ac0>"
      ]
     },
     "execution_count": 33,
     "metadata": {},
     "output_type": "execute_result"
    },
    {
     "data": {
      "image/png": "[encoded data removed]",
      "text/plain": [
       "<Figure size 432x288 with 2 Axes>"
      ]
     },
     "metadata": {},
     "output_type": "display_data"
    }
   ],
   "source": [
    "from sklearn.metrics import plot_confusion_matrix \n",
    "plot_confusion_matrix(logreg, X_test, y_test)"
   ]
  },
  {
   "cell_type": "code",
   "execution_count": 34,
   "metadata": {},
   "outputs": [
    {
     "name": "stdout",
     "output_type": "stream",
     "text": [
      "Test Accuracy Score:  0.11197916666666667\n",
      "Train Accuracy Score:  0.109375\n",
      "\n",
      "\n",
      "Test Precision Score:  0.10732984293193717\n",
      "Train Precision Score:  0.0984182776801406\n",
      "\n",
      "\n",
      "Test Recall Score:  1.0\n",
      "Train Recall Score:  1.0\n",
      "\n",
      "\n",
      "Test F1 Score:  0.1938534278959811\n",
      "Train F1 Score:  0.1792\n"
     ]
    }
   ],
   "source": [
    "from sklearn.metrics import accuracy_score, precision_score, recall_score, f1_score\n",
    "print('Test Accuracy Score: ', accuracy_score(y_test, y_hat_test))\n",
    "print('Train Accuracy Score: ', accuracy_score(y_train, y_hat_train))\n",
    "print('\\n')\n",
    "print('Test Precision Score: ', precision_score(y_test, y_hat_test))\n",
    "print('Train Precision Score: ', precision_score(y_train, y_hat_train))\n",
    "print('\\n')\n",
    "print('Test Recall Score: ', recall_score(y_test, y_hat_test))\n",
    "print('Train Recall Score: ', recall_score(y_train, y_hat_train))\n",
    "print('\\n')\n",
    "print('Test F1 Score: ', f1_score(y_test, y_hat_test))\n",
    "print('Train F1 Score: ', f1_score(y_train, y_hat_train))"
   ]
  },
  {
   "cell_type": "markdown",
   "metadata": {},
   "source": [
    "Recall score is high, but every other score is very low. Not worth using."
   ]
  },
  {
   "cell_type": "markdown",
   "metadata": {},
   "source": [
    "### SMOTE"
   ]
  },
  {
   "cell_type": "code",
   "execution_count": 35,
   "metadata": {},
   "outputs": [
    {
     "name": "stdout",
     "output_type": "stream",
     "text": [
      "Requirement already satisfied: imbalanced-learn in /opt/anaconda3/lib/python3.8/site-packages (0.7.0)\r\n",
      "Requirement already satisfied: scikit-learn>=0.23 in /opt/anaconda3/lib/python3.8/site-packages (from imbalanced-learn) (0.23.1)\r\n",
      "Requirement already satisfied: numpy>=1.13.3 in /opt/anaconda3/lib/python3.8/site-packages (from imbalanced-learn) (1.18.5)\r\n",
      "Requirement already satisfied: scipy>=0.19.1 in /opt/anaconda3/lib/python3.8/site-packages (from imbalanced-learn) (1.5.0)\r\n",
      "Requirement already satisfied: joblib>=0.11 in /opt/anaconda3/lib/python3.8/site-packages (from imbalanced-learn) (0.16.0)\r\n",
      "Requirement already satisfied: threadpoolctl>=2.0.0 in /opt/anaconda3/lib/python3.8/site-packages (from scikit-learn>=0.23->imbalanced-learn) (2.1.0)\r\n"
     ]
    }
   ],
   "source": [
    "# Address imbalance using SMOTE \n",
    "!pip install imbalanced-learn\n",
    "from imblearn.over_sampling import SMOTE"
   ]
  },
  {
   "cell_type": "code",
   "execution_count": 36,
   "metadata": {},
   "outputs": [],
   "source": [
    "# Instantiate SMOTE and fit data\n",
    "smote = SMOTE()\n",
    "X_train_resampled, y_train_resampled = smote.fit_sample(X_train, y_train)\n",
    "\n",
    "# Fit model\n",
    "model_log = logreg.fit(X_train_resampled, y_train_resampled)"
   ]
  },
  {
   "cell_type": "code",
   "execution_count": 37,
   "metadata": {},
   "outputs": [
    {
     "data": {
      "text/plain": [
       "array([[  4, 516],\n",
       "       [  0, 520]])"
      ]
     },
     "execution_count": 37,
     "metadata": {},
     "output_type": "execute_result"
    }
   ],
   "source": [
    "y_hat_test = logreg.predict(X_test)\n",
    "y_hat_train = logreg.predict(X_train_resampled)\n",
    "\n",
    "from sklearn.metrics import confusion_matrix \n",
    "cf = confusion_matrix(y_train_resampled, y_hat_train)\n",
    "cf"
   ]
  },
  {
   "cell_type": "code",
   "execution_count": 38,
   "metadata": {},
   "outputs": [
    {
     "data": {
      "text/plain": [
       "<sklearn.metrics._plot.confusion_matrix.ConfusionMatrixDisplay at 0x7f846aac7fd0>"
      ]
     },
     "execution_count": 38,
     "metadata": {},
     "output_type": "execute_result"
    },
    {
     "data": {
      "image/png": "[encoded data removed]",
      "text/plain": [
       "<Figure size 432x288 with 2 Axes>"
      ]
     },
     "metadata": {},
     "output_type": "display_data"
    }
   ],
   "source": [
    "from sklearn.metrics import plot_confusion_matrix \n",
    "plot_confusion_matrix(logreg, X_test, y_test)"
   ]
  },
  {
   "cell_type": "code",
   "execution_count": 39,
   "metadata": {},
   "outputs": [
    {
     "name": "stdout",
     "output_type": "stream",
     "text": [
      "Training AUC: 0.9024390243902439\n"
     ]
    }
   ],
   "source": [
    "from sklearn.metrics import roc_curve, auc\n",
    "y_score_w_resample = logreg.fit(X_train_resampled, y_train_resampled).decision_function(X_test)\n",
    "train_fpr, train_tpr, thresholds = roc_curve(y_test, y_score_w_resample)\n",
    "print('Training AUC: {}'.format(auc(train_fpr, train_tpr)))"
   ]
  },
  {
   "cell_type": "code",
   "execution_count": 40,
   "metadata": {},
   "outputs": [
    {
     "name": "stdout",
     "output_type": "stream",
     "text": [
      "Test Accuracy Score:  0.10677083333333333\n",
      "Train Accuracy Score:  0.5038461538461538\n",
      "\n",
      "\n",
      "Test Precision Score:  0.10677083333333333\n",
      "Train Precision Score:  0.5019305019305019\n",
      "\n",
      "\n",
      "Test Recall Score:  1.0\n",
      "Train Recall Score:  1.0\n",
      "\n",
      "\n",
      "Test F1 Score:  0.19294117647058823\n",
      "Train F1 Score:  0.6683804627249358\n"
     ]
    }
   ],
   "source": [
    "print('Test Accuracy Score: ', accuracy_score(y_test, y_hat_test))\n",
    "print('Train Accuracy Score: ', accuracy_score(y_train_resampled, y_hat_train))\n",
    "print('\\n')\n",
    "print('Test Precision Score: ', precision_score(y_test, y_hat_test))\n",
    "print('Train Precision Score: ', precision_score(y_train_resampled, y_hat_train))\n",
    "print('\\n')\n",
    "print('Test Recall Score: ', recall_score(y_test, y_hat_test))\n",
    "print('Train Recall Score: ', recall_score(y_train_resampled, y_hat_train))\n",
    "print('\\n')\n",
    "print('Test F1 Score: ', f1_score(y_test, y_hat_test))\n",
    "print('Train F1 Score: ', f1_score(y_train_resampled, y_hat_train))"
   ]
  },
  {
   "cell_type": "markdown",
   "metadata": {},
   "source": [
    "Recall score is as high as can be, but all the other scores are low. Although we are prioritizing recall, our model has such low accuracy, it's not worth using. "
   ]
  },
  {
   "cell_type": "markdown",
   "metadata": {},
   "source": [
    "### Support Vector Machines"
   ]
  },
  {
   "cell_type": "code",
   "execution_count": 76,
   "metadata": {},
   "outputs": [],
   "source": [
    "# Standardize Data \n",
    "from sklearn.preprocessing import StandardScaler \n",
    "std = StandardScaler()\n",
    "X_train_transformed = std.fit_transform(X_train)\n",
    "X_test_transformed = std.transform(X_test)"
   ]
  },
  {
   "cell_type": "code",
   "execution_count": 78,
   "metadata": {},
   "outputs": [
    {
     "data": {
      "text/plain": [
       "SVC(probability=True)"
      ]
     },
     "execution_count": 78,
     "metadata": {},
     "output_type": "execute_result"
    }
   ],
   "source": [
    "# Use Support Vector Machines to tune up model\n",
    "from sklearn import svm\n",
    "clf = svm.SVC(probability=True)\n",
    "clf.fit(X_train_transformed, y_train)"
   ]
  },
  {
   "cell_type": "code",
   "execution_count": 79,
   "metadata": {},
   "outputs": [
    {
     "data": {
      "text/plain": [
       "0.9296875"
      ]
     },
     "execution_count": 79,
     "metadata": {},
     "output_type": "execute_result"
    }
   ],
   "source": [
    "clf.score(X_test_transformed, y_test)"
   ]
  },
  {
   "cell_type": "markdown",
   "metadata": {},
   "source": [
    "When we use a support vector machine, we raise our score by 3%. "
   ]
  },
  {
   "cell_type": "markdown",
   "metadata": {},
   "source": [
    "### Building a Model with Statsmodel and Feature Selection"
   ]
  },
  {
   "cell_type": "code",
   "execution_count": 94,
   "metadata": {},
   "outputs": [
    {
     "name": "stdout",
     "output_type": "stream",
     "text": [
      "<class 'pandas.core.frame.DataFrame'>\n",
      "Int64Index: 960 entries, 0 to 1557\n",
      "Data columns (total 26 columns):\n",
      " #   Column                                Non-Null Count  Dtype  \n",
      "---  ------                                --------------  -----  \n",
      " 0   meaning_percentage                    960 non-null    int64  \n",
      " 1   stem_percentage                       960 non-null    int64  \n",
      " 2   engineering                           960 non-null    float64\n",
      " 3   private_school                        960 non-null    float64\n",
      " 4   religious                             960 non-null    float64\n",
      " 5   for_sports_fans                       960 non-null    float64\n",
      " 6   party_school                          960 non-null    float64\n",
      " 7   liberal_arts_school                   960 non-null    float64\n",
      " 8   state_school                          960 non-null    float64\n",
      " 9   research_university                   960 non-null    float64\n",
      " 10  business                              960 non-null    float64\n",
      " 11  sober_school                          960 non-null    float64\n",
      " 12  ivy_league                            960 non-null    float64\n",
      " 13  state_code                            960 non-null    object \n",
      " 14  degree_length                         960 non-null    object \n",
      " 15  in_state_total                        960 non-null    float64\n",
      " 16  total_enrollment                      960 non-null    float64\n",
      " 17  AIAN_enrollment_percentage            960 non-null    float64\n",
      " 18  Asian_enrollment_percentage           960 non-null    float64\n",
      " 19  Black_enrollment_percentage           960 non-null    float64\n",
      " 20  Hispanic_enrollment_percentage        960 non-null    float64\n",
      " 21  non_resident_enrollment_percentage    960 non-null    float64\n",
      " 22  total_minority_enrollment_percentage  960 non-null    float64\n",
      " 23  women_enrollment_percentage           960 non-null    float64\n",
      " 24  school_rank                           960 non-null    object \n",
      " 25  over_60000                            960 non-null    bool   \n",
      "dtypes: bool(1), float64(20), int64(2), object(3)\n",
      "memory usage: 195.9+ KB\n"
     ]
    }
   ],
   "source": [
    "# Prepare DataFrame for Logistic Regression model \n",
    "\n",
    "# Select features removing columns with high multicollinearity \n",
    "statsmodel_df = df.drop(columns=['type', 'room_and_board', 'in_state_tuition', 'out_of_state_tuition', 'out_of_state_total', 'White_enrollment_percentage', 'unknown_enrollment_percentage', 'early_career_pay', 'art', 'NHPI_enrollment_percentage'], axis=1)\n",
    "\n",
    "# Convert bool columns into float \n",
    "bool_col = ['engineering', 'private_school', 'religious', 'for_sports_fans', 'party_school', 'liberal_arts_school', 'state_school', 'research_university', 'business', 'sober_school', 'ivy_league']\n",
    "statsmodel_df[bool_col] = statsmodel_df[bool_col].astype(float)\n",
    "\n",
    "# Normalize Data \n",
    "def norm_feat(series):\n",
    "    return (series - series.mean())/series.std()\n",
    "for feat in ['total_enrollment', 'in_state_total']:\n",
    "    statsmodel_df[feat] = norm_feat(statsmodel_df[feat])\n",
    "    \n",
    "statsmodel_df.info()"
   ]
  },
  {
   "cell_type": "code",
   "execution_count": 142,
   "metadata": {},
   "outputs": [],
   "source": [
    "features = ['meaning_percentage', 'stem_percentage', 'engineering', 'private_school', 'religious', 'for_sports_fans', 'party_school', 'in_state_total', 'state_school', 'total_minority_enrollment_percentage', 'liberal_arts_school', 'research_university', 'business', 'sober_school', 'school_rank', 'ivy_league', 'degree_length', 'research_university']\n",
    "X = statsmodel_df[features]\n",
    "X = pd.get_dummies(X, drop_first=True)\n",
    "\n",
    "statsmodel_df['over_60000'] = statsmodel_df['over_60000'].astype(int)\n",
    "y = statsmodel_df[['over_60000']]\n"
   ]
  },
  {
   "cell_type": "code",
   "execution_count": 143,
   "metadata": {},
   "outputs": [
    {
     "name": "stdout",
     "output_type": "stream",
     "text": [
      "Warning: Maximum number of iterations has been exceeded.\n",
      "         Current function value: 0.110704\n",
      "         Iterations: 35\n"
     ]
    },
    {
     "name": "stderr",
     "output_type": "stream",
     "text": [
      "/opt/anaconda3/lib/python3.8/site-packages/statsmodels/base/model.py:567: ConvergenceWarning: Maximum Likelihood optimization failed to converge. Check mle_retvals\n",
      "  warn(\"Maximum Likelihood optimization failed to converge. \"\n"
     ]
    }
   ],
   "source": [
    "import statsmodels.api as sm\n",
    "X = sm.tools.add_constant(X)\n",
    "logit_model = sm.Logit(y, X)\n",
    "result = logit_model.fit()"
   ]
  },
  {
   "cell_type": "code",
   "execution_count": 144,
   "metadata": {},
   "outputs": [
    {
     "data": {
      "text/html": [
       "<table class=\"simpletable\">\n",
       "<caption>Logit Regression Results</caption>\n",
       "<tr>\n",
       "  <th>Dep. Variable:</th>      <td>over_60000</td>    <th>  No. Observations:  </th>  <td>   960</td>  \n",
       "</tr>\n",
       "<tr>\n",
       "  <th>Model:</th>                 <td>Logit</td>      <th>  Df Residuals:      </th>  <td>   939</td>  \n",
       "</tr>\n",
       "<tr>\n",
       "  <th>Method:</th>                 <td>MLE</td>       <th>  Df Model:          </th>  <td>    20</td>  \n",
       "</tr>\n",
       "<tr>\n",
       "  <th>Date:</th>            <td>Mon, 15 Feb 2021</td> <th>  Pseudo R-squ.:     </th>  <td>0.6618</td>  \n",
       "</tr>\n",
       "<tr>\n",
       "  <th>Time:</th>                <td>19:27:55</td>     <th>  Log-Likelihood:    </th> <td> -106.28</td> \n",
       "</tr>\n",
       "<tr>\n",
       "  <th>converged:</th>             <td>False</td>      <th>  LL-Null:           </th> <td> -314.27</td> \n",
       "</tr>\n",
       "<tr>\n",
       "  <th>Covariance Type:</th>     <td>nonrobust</td>    <th>  LLR p-value:       </th> <td>9.785e-76</td>\n",
       "</tr>\n",
       "</table>\n",
       "<table class=\"simpletable\">\n",
       "<tr>\n",
       "                    <td></td>                      <th>coef</th>     <th>std err</th>      <th>z</th>      <th>P>|z|</th>  <th>[0.025</th>    <th>0.975]</th>  \n",
       "</tr>\n",
       "<tr>\n",
       "  <th>const</th>                                <td>  -15.6242</td> <td>      nan</td> <td>      nan</td> <td>   nan</td> <td>      nan</td> <td>      nan</td>\n",
       "</tr>\n",
       "<tr>\n",
       "  <th>meaning_percentage</th>                   <td>    0.1092</td> <td>    0.033</td> <td>    3.263</td> <td> 0.001</td> <td>    0.044</td> <td>    0.175</td>\n",
       "</tr>\n",
       "<tr>\n",
       "  <th>stem_percentage</th>                      <td>    0.1073</td> <td>    0.018</td> <td>    6.010</td> <td> 0.000</td> <td>    0.072</td> <td>    0.142</td>\n",
       "</tr>\n",
       "<tr>\n",
       "  <th>engineering</th>                          <td>    1.4950</td> <td>    1.210</td> <td>    1.236</td> <td> 0.217</td> <td>   -0.876</td> <td>    3.866</td>\n",
       "</tr>\n",
       "<tr>\n",
       "  <th>private_school</th>                       <td>  -11.2094</td> <td> 3.27e+07</td> <td>-3.42e-07</td> <td> 1.000</td> <td>-6.41e+07</td> <td> 6.41e+07</td>\n",
       "</tr>\n",
       "<tr>\n",
       "  <th>religious</th>                            <td>   -0.0161</td> <td>    0.487</td> <td>   -0.033</td> <td> 0.974</td> <td>   -0.970</td> <td>    0.938</td>\n",
       "</tr>\n",
       "<tr>\n",
       "  <th>for_sports_fans</th>                      <td>    0.8510</td> <td>    0.494</td> <td>    1.722</td> <td> 0.085</td> <td>   -0.118</td> <td>    1.820</td>\n",
       "</tr>\n",
       "<tr>\n",
       "  <th>party_school</th>                         <td>    0.5555</td> <td>    1.020</td> <td>    0.544</td> <td> 0.586</td> <td>   -1.444</td> <td>    2.555</td>\n",
       "</tr>\n",
       "<tr>\n",
       "  <th>in_state_total</th>                       <td>    4.6010</td> <td>    0.706</td> <td>    6.518</td> <td> 0.000</td> <td>    3.217</td> <td>    5.985</td>\n",
       "</tr>\n",
       "<tr>\n",
       "  <th>state_school</th>                         <td>   -4.4080</td> <td>      nan</td> <td>      nan</td> <td>   nan</td> <td>      nan</td> <td>      nan</td>\n",
       "</tr>\n",
       "<tr>\n",
       "  <th>total_minority_enrollment_percentage</th> <td>   -0.6665</td> <td>    1.453</td> <td>   -0.459</td> <td> 0.646</td> <td>   -3.515</td> <td>    2.182</td>\n",
       "</tr>\n",
       "<tr>\n",
       "  <th>liberal_arts_school</th>                  <td>   -2.8835</td> <td>    0.694</td> <td>   -4.155</td> <td> 0.000</td> <td>   -4.244</td> <td>   -1.523</td>\n",
       "</tr>\n",
       "<tr>\n",
       "  <th>research_university</th>                  <td>   -0.1804</td> <td>      nan</td> <td>      nan</td> <td>   nan</td> <td>      nan</td> <td>      nan</td>\n",
       "</tr>\n",
       "<tr>\n",
       "  <th>business</th>                             <td>    2.8905</td> <td>    0.961</td> <td>    3.009</td> <td> 0.003</td> <td>    1.008</td> <td>    4.773</td>\n",
       "</tr>\n",
       "<tr>\n",
       "  <th>sober_school</th>                         <td>  -14.8762</td> <td> 2726.654</td> <td>   -0.005</td> <td> 0.996</td> <td>-5359.019</td> <td> 5329.267</td>\n",
       "</tr>\n",
       "<tr>\n",
       "  <th>ivy_league</th>                           <td>   18.1565</td> <td> 2.37e+04</td> <td>    0.001</td> <td> 0.999</td> <td>-4.64e+04</td> <td> 4.65e+04</td>\n",
       "</tr>\n",
       "<tr>\n",
       "  <th>research_university</th>                  <td>   -0.1804</td> <td>      nan</td> <td>      nan</td> <td>   nan</td> <td>      nan</td> <td>      nan</td>\n",
       "</tr>\n",
       "<tr>\n",
       "  <th>school_rank_top_100</th>                  <td>   -0.0165</td> <td>    1.266</td> <td>   -0.013</td> <td> 0.990</td> <td>   -2.499</td> <td>    2.466</td>\n",
       "</tr>\n",
       "<tr>\n",
       "  <th>school_rank_top_150</th>                  <td>   -1.1605</td> <td>    1.479</td> <td>   -0.785</td> <td> 0.433</td> <td>   -4.060</td> <td>    1.739</td>\n",
       "</tr>\n",
       "<tr>\n",
       "  <th>school_rank_top_200</th>                  <td>   -1.0099</td> <td>    1.628</td> <td>   -0.620</td> <td> 0.535</td> <td>   -4.201</td> <td>    2.181</td>\n",
       "</tr>\n",
       "<tr>\n",
       "  <th>school_rank_top_250</th>                  <td>  -26.2350</td> <td> 1.14e+06</td> <td>-2.31e-05</td> <td> 1.000</td> <td>-2.23e+06</td> <td> 2.23e+06</td>\n",
       "</tr>\n",
       "<tr>\n",
       "  <th>school_rank_top_50</th>                   <td>    0.5842</td> <td>    1.449</td> <td>    0.403</td> <td> 0.687</td> <td>   -2.255</td> <td>    3.424</td>\n",
       "</tr>\n",
       "<tr>\n",
       "  <th>degree_length_4 Year</th>                 <td>   12.9430</td> <td>      nan</td> <td>      nan</td> <td>   nan</td> <td>      nan</td> <td>      nan</td>\n",
       "</tr>\n",
       "</table><br/><br/>Possibly complete quasi-separation: A fraction 0.14 of observations can be<br/>perfectly predicted. This might indicate that there is complete<br/>quasi-separation. In this case some parameters will not be identified."
      ],
      "text/plain": [
       "<class 'statsmodels.iolib.summary.Summary'>\n",
       "\"\"\"\n",
       "                           Logit Regression Results                           \n",
       "==============================================================================\n",
       "Dep. Variable:             over_60000   No. Observations:                  960\n",
       "Model:                          Logit   Df Residuals:                      939\n",
       "Method:                           MLE   Df Model:                           20\n",
       "Date:                Mon, 15 Feb 2021   Pseudo R-squ.:                  0.6618\n",
       "Time:                        19:27:55   Log-Likelihood:                -106.28\n",
       "converged:                      False   LL-Null:                       -314.27\n",
       "Covariance Type:            nonrobust   LLR p-value:                 9.785e-76\n",
       "========================================================================================================\n",
       "                                           coef    std err          z      P>|z|      [0.025      0.975]\n",
       "--------------------------------------------------------------------------------------------------------\n",
       "const                                  -15.6242        nan        nan        nan         nan         nan\n",
       "meaning_percentage                       0.1092      0.033      3.263      0.001       0.044       0.175\n",
       "stem_percentage                          0.1073      0.018      6.010      0.000       0.072       0.142\n",
       "engineering                              1.4950      1.210      1.236      0.217      -0.876       3.866\n",
       "private_school                         -11.2094   3.27e+07  -3.42e-07      1.000   -6.41e+07    6.41e+07\n",
       "religious                               -0.0161      0.487     -0.033      0.974      -0.970       0.938\n",
       "for_sports_fans                          0.8510      0.494      1.722      0.085      -0.118       1.820\n",
       "party_school                             0.5555      1.020      0.544      0.586      -1.444       2.555\n",
       "in_state_total                           4.6010      0.706      6.518      0.000       3.217       5.985\n",
       "state_school                            -4.4080        nan        nan        nan         nan         nan\n",
       "total_minority_enrollment_percentage    -0.6665      1.453     -0.459      0.646      -3.515       2.182\n",
       "liberal_arts_school                     -2.8835      0.694     -4.155      0.000      -4.244      -1.523\n",
       "research_university                     -0.1804        nan        nan        nan         nan         nan\n",
       "business                                 2.8905      0.961      3.009      0.003       1.008       4.773\n",
       "sober_school                           -14.8762   2726.654     -0.005      0.996   -5359.019    5329.267\n",
       "ivy_league                              18.1565   2.37e+04      0.001      0.999   -4.64e+04    4.65e+04\n",
       "research_university                     -0.1804        nan        nan        nan         nan         nan\n",
       "school_rank_top_100                     -0.0165      1.266     -0.013      0.990      -2.499       2.466\n",
       "school_rank_top_150                     -1.1605      1.479     -0.785      0.433      -4.060       1.739\n",
       "school_rank_top_200                     -1.0099      1.628     -0.620      0.535      -4.201       2.181\n",
       "school_rank_top_250                    -26.2350   1.14e+06  -2.31e-05      1.000   -2.23e+06    2.23e+06\n",
       "school_rank_top_50                       0.5842      1.449      0.403      0.687      -2.255       3.424\n",
       "degree_length_4 Year                    12.9430        nan        nan        nan         nan         nan\n",
       "========================================================================================================\n",
       "\n",
       "Possibly complete quasi-separation: A fraction 0.14 of observations can be\n",
       "perfectly predicted. This might indicate that there is complete\n",
       "quasi-separation. In this case some parameters will not be identified.\n",
       "\"\"\""
      ]
     },
     "execution_count": 144,
     "metadata": {},
     "output_type": "execute_result"
    }
   ],
   "source": [
    "result.summary()"
   ]
  },
  {
   "cell_type": "markdown",
   "metadata": {},
   "source": [
    "Based on our table, we find that many features don't have a p-value strong enough to prove that the feature has any impact on expected income. Let's narrow down our features and determine which have the biggest effect. "
   ]
  },
  {
   "cell_type": "code",
   "execution_count": 161,
   "metadata": {},
   "outputs": [],
   "source": [
    "features = ['meaning_percentage', 'stem_percentage', 'private_school', 'Asian_enrollment_percentage', 'Black_enrollment_percentage', 'for_sports_fans', 'in_state_total', 'liberal_arts_school', 'business', 'school_rank', 'non_resident_enrollment_percentage']\n",
    "\n",
    "X = statsmodel_df[features]\n",
    "X = pd.get_dummies(X, drop_first=True)\n",
    "\n",
    "statsmodel_df['over_60000'] = statsmodel_df['over_60000'].astype(int)\n",
    "y = statsmodel_df[['over_60000']]"
   ]
  },
  {
   "cell_type": "code",
   "execution_count": 162,
   "metadata": {},
   "outputs": [
    {
     "name": "stdout",
     "output_type": "stream",
     "text": [
      "Warning: Maximum number of iterations has been exceeded.\n",
      "         Current function value: 0.104439\n",
      "         Iterations: 35\n"
     ]
    },
    {
     "name": "stderr",
     "output_type": "stream",
     "text": [
      "/opt/anaconda3/lib/python3.8/site-packages/statsmodels/base/model.py:567: ConvergenceWarning: Maximum Likelihood optimization failed to converge. Check mle_retvals\n",
      "  warn(\"Maximum Likelihood optimization failed to converge. \"\n"
     ]
    }
   ],
   "source": [
    "X = sm.tools.add_constant(X)\n",
    "logit_model = sm.Logit(y, X)\n",
    "result = logit_model.fit()"
   ]
  },
  {
   "cell_type": "code",
   "execution_count": 163,
   "metadata": {},
   "outputs": [
    {
     "data": {
      "text/html": [
       "<table class=\"simpletable\">\n",
       "<caption>Logit Regression Results</caption>\n",
       "<tr>\n",
       "  <th>Dep. Variable:</th>      <td>over_60000</td>    <th>  No. Observations:  </th>  <td>   960</td>  \n",
       "</tr>\n",
       "<tr>\n",
       "  <th>Model:</th>                 <td>Logit</td>      <th>  Df Residuals:      </th>  <td>   944</td>  \n",
       "</tr>\n",
       "<tr>\n",
       "  <th>Method:</th>                 <td>MLE</td>       <th>  Df Model:          </th>  <td>    15</td>  \n",
       "</tr>\n",
       "<tr>\n",
       "  <th>Date:</th>            <td>Mon, 15 Feb 2021</td> <th>  Pseudo R-squ.:     </th>  <td>0.6810</td>  \n",
       "</tr>\n",
       "<tr>\n",
       "  <th>Time:</th>                <td>19:38:22</td>     <th>  Log-Likelihood:    </th> <td> -100.26</td> \n",
       "</tr>\n",
       "<tr>\n",
       "  <th>converged:</th>             <td>False</td>      <th>  LL-Null:           </th> <td> -314.27</td> \n",
       "</tr>\n",
       "<tr>\n",
       "  <th>Covariance Type:</th>     <td>nonrobust</td>    <th>  LLR p-value:       </th> <td>8.830e-82</td>\n",
       "</tr>\n",
       "</table>\n",
       "<table class=\"simpletable\">\n",
       "<tr>\n",
       "                   <td></td>                     <th>coef</th>     <th>std err</th>      <th>z</th>      <th>P>|z|</th>  <th>[0.025</th>    <th>0.975]</th>  \n",
       "</tr>\n",
       "<tr>\n",
       "  <th>const</th>                              <td>   -7.1147</td> <td>    1.751</td> <td>   -4.062</td> <td> 0.000</td> <td>  -10.547</td> <td>   -3.682</td>\n",
       "</tr>\n",
       "<tr>\n",
       "  <th>meaning_percentage</th>                 <td>    0.0887</td> <td>    0.031</td> <td>    2.889</td> <td> 0.004</td> <td>    0.029</td> <td>    0.149</td>\n",
       "</tr>\n",
       "<tr>\n",
       "  <th>stem_percentage</th>                    <td>    0.1067</td> <td>    0.016</td> <td>    6.850</td> <td> 0.000</td> <td>    0.076</td> <td>    0.137</td>\n",
       "</tr>\n",
       "<tr>\n",
       "  <th>private_school</th>                     <td>   -5.2530</td> <td>    1.413</td> <td>   -3.718</td> <td> 0.000</td> <td>   -8.022</td> <td>   -2.484</td>\n",
       "</tr>\n",
       "<tr>\n",
       "  <th>Asian_enrollment_percentage</th>        <td>    8.2380</td> <td>    3.484</td> <td>    2.365</td> <td> 0.018</td> <td>    1.410</td> <td>   15.066</td>\n",
       "</tr>\n",
       "<tr>\n",
       "  <th>Black_enrollment_percentage</th>        <td>  -10.3621</td> <td>    6.686</td> <td>   -1.550</td> <td> 0.121</td> <td>  -23.467</td> <td>    2.743</td>\n",
       "</tr>\n",
       "<tr>\n",
       "  <th>for_sports_fans</th>                    <td>    1.0101</td> <td>    0.474</td> <td>    2.131</td> <td> 0.033</td> <td>    0.081</td> <td>    1.939</td>\n",
       "</tr>\n",
       "<tr>\n",
       "  <th>in_state_total</th>                     <td>    3.6199</td> <td>    0.682</td> <td>    5.305</td> <td> 0.000</td> <td>    2.283</td> <td>    4.957</td>\n",
       "</tr>\n",
       "<tr>\n",
       "  <th>liberal_arts_school</th>                <td>   -2.4248</td> <td>    0.675</td> <td>   -3.592</td> <td> 0.000</td> <td>   -3.748</td> <td>   -1.102</td>\n",
       "</tr>\n",
       "<tr>\n",
       "  <th>business</th>                           <td>    2.8485</td> <td>    1.019</td> <td>    2.797</td> <td> 0.005</td> <td>    0.852</td> <td>    4.845</td>\n",
       "</tr>\n",
       "<tr>\n",
       "  <th>non_resident_enrollment_percentage</th> <td>    4.8981</td> <td>    2.870</td> <td>    1.707</td> <td> 0.088</td> <td>   -0.727</td> <td>   10.523</td>\n",
       "</tr>\n",
       "<tr>\n",
       "  <th>school_rank_top_100</th>                <td>   -0.4350</td> <td>    0.728</td> <td>   -0.598</td> <td> 0.550</td> <td>   -1.861</td> <td>    0.991</td>\n",
       "</tr>\n",
       "<tr>\n",
       "  <th>school_rank_top_150</th>                <td>   -1.8866</td> <td>    0.991</td> <td>   -1.904</td> <td> 0.057</td> <td>   -3.829</td> <td>    0.056</td>\n",
       "</tr>\n",
       "<tr>\n",
       "  <th>school_rank_top_200</th>                <td>   -1.4138</td> <td>    1.383</td> <td>   -1.022</td> <td> 0.307</td> <td>   -4.125</td> <td>    1.297</td>\n",
       "</tr>\n",
       "<tr>\n",
       "  <th>school_rank_top_250</th>                <td>   -8.5805</td> <td>  158.148</td> <td>   -0.054</td> <td> 0.957</td> <td> -318.545</td> <td>  301.384</td>\n",
       "</tr>\n",
       "<tr>\n",
       "  <th>school_rank_top_50</th>                 <td>    0.3197</td> <td>    0.945</td> <td>    0.338</td> <td> 0.735</td> <td>   -1.533</td> <td>    2.172</td>\n",
       "</tr>\n",
       "</table><br/><br/>Possibly complete quasi-separation: A fraction 0.17 of observations can be<br/>perfectly predicted. This might indicate that there is complete<br/>quasi-separation. In this case some parameters will not be identified."
      ],
      "text/plain": [
       "<class 'statsmodels.iolib.summary.Summary'>\n",
       "\"\"\"\n",
       "                           Logit Regression Results                           \n",
       "==============================================================================\n",
       "Dep. Variable:             over_60000   No. Observations:                  960\n",
       "Model:                          Logit   Df Residuals:                      944\n",
       "Method:                           MLE   Df Model:                           15\n",
       "Date:                Mon, 15 Feb 2021   Pseudo R-squ.:                  0.6810\n",
       "Time:                        19:38:22   Log-Likelihood:                -100.26\n",
       "converged:                      False   LL-Null:                       -314.27\n",
       "Covariance Type:            nonrobust   LLR p-value:                 8.830e-82\n",
       "======================================================================================================\n",
       "                                         coef    std err          z      P>|z|      [0.025      0.975]\n",
       "------------------------------------------------------------------------------------------------------\n",
       "const                                 -7.1147      1.751     -4.062      0.000     -10.547      -3.682\n",
       "meaning_percentage                     0.0887      0.031      2.889      0.004       0.029       0.149\n",
       "stem_percentage                        0.1067      0.016      6.850      0.000       0.076       0.137\n",
       "private_school                        -5.2530      1.413     -3.718      0.000      -8.022      -2.484\n",
       "Asian_enrollment_percentage            8.2380      3.484      2.365      0.018       1.410      15.066\n",
       "Black_enrollment_percentage          -10.3621      6.686     -1.550      0.121     -23.467       2.743\n",
       "for_sports_fans                        1.0101      0.474      2.131      0.033       0.081       1.939\n",
       "in_state_total                         3.6199      0.682      5.305      0.000       2.283       4.957\n",
       "liberal_arts_school                   -2.4248      0.675     -3.592      0.000      -3.748      -1.102\n",
       "business                               2.8485      1.019      2.797      0.005       0.852       4.845\n",
       "non_resident_enrollment_percentage     4.8981      2.870      1.707      0.088      -0.727      10.523\n",
       "school_rank_top_100                   -0.4350      0.728     -0.598      0.550      -1.861       0.991\n",
       "school_rank_top_150                   -1.8866      0.991     -1.904      0.057      -3.829       0.056\n",
       "school_rank_top_200                   -1.4138      1.383     -1.022      0.307      -4.125       1.297\n",
       "school_rank_top_250                   -8.5805    158.148     -0.054      0.957    -318.545     301.384\n",
       "school_rank_top_50                     0.3197      0.945      0.338      0.735      -1.533       2.172\n",
       "======================================================================================================\n",
       "\n",
       "Possibly complete quasi-separation: A fraction 0.17 of observations can be\n",
       "perfectly predicted. This might indicate that there is complete\n",
       "quasi-separation. In this case some parameters will not be identified.\n",
       "\"\"\""
      ]
     },
     "execution_count": 163,
     "metadata": {},
     "output_type": "execute_result"
    }
   ],
   "source": [
    "result.summary()"
   ]
  },
  {
   "cell_type": "code",
   "execution_count": 164,
   "metadata": {},
   "outputs": [
    {
     "name": "stdout",
     "output_type": "stream",
     "text": [
      "Warning: Maximum number of iterations has been exceeded.\n",
      "         Current function value: 0.203806\n",
      "         Iterations: 35\n"
     ]
    },
    {
     "name": "stderr",
     "output_type": "stream",
     "text": [
      "/opt/anaconda3/lib/python3.8/site-packages/statsmodels/base/model.py:567: ConvergenceWarning: Maximum Likelihood optimization failed to converge. Check mle_retvals\n",
      "  warn(\"Maximum Likelihood optimization failed to converge. \"\n"
     ]
    },
    {
     "data": {
      "text/html": [
       "<table class=\"simpletable\">\n",
       "<caption>Logit Regression Results</caption>\n",
       "<tr>\n",
       "  <th>Dep. Variable:</th>      <td>over_60000</td>    <th>  No. Observations:  </th>  <td>   960</td>  \n",
       "</tr>\n",
       "<tr>\n",
       "  <th>Model:</th>                 <td>Logit</td>      <th>  Df Residuals:      </th>  <td>   949</td>  \n",
       "</tr>\n",
       "<tr>\n",
       "  <th>Method:</th>                 <td>MLE</td>       <th>  Df Model:          </th>  <td>    10</td>  \n",
       "</tr>\n",
       "<tr>\n",
       "  <th>Date:</th>            <td>Mon, 15 Feb 2021</td> <th>  Pseudo R-squ.:     </th>  <td>0.3774</td>  \n",
       "</tr>\n",
       "<tr>\n",
       "  <th>Time:</th>                <td>19:42:17</td>     <th>  Log-Likelihood:    </th> <td> -195.65</td> \n",
       "</tr>\n",
       "<tr>\n",
       "  <th>converged:</th>             <td>False</td>      <th>  LL-Null:           </th> <td> -314.27</td> \n",
       "</tr>\n",
       "<tr>\n",
       "  <th>Covariance Type:</th>     <td>nonrobust</td>    <th>  LLR p-value:       </th> <td>2.607e-45</td>\n",
       "</tr>\n",
       "</table>\n",
       "<table class=\"simpletable\">\n",
       "<tr>\n",
       "           <td></td>              <th>coef</th>     <th>std err</th>      <th>z</th>      <th>P>|z|</th>  <th>[0.025</th>    <th>0.975]</th>  \n",
       "</tr>\n",
       "<tr>\n",
       "  <th>const</th>               <td>   -2.8858</td> <td> 7.12e+06</td> <td>-4.05e-07</td> <td> 1.000</td> <td> -1.4e+07</td> <td>  1.4e+07</td>\n",
       "</tr>\n",
       "<tr>\n",
       "  <th>engineering</th>         <td>    5.4492</td> <td>    0.822</td> <td>    6.631</td> <td> 0.000</td> <td>    3.838</td> <td>    7.060</td>\n",
       "</tr>\n",
       "<tr>\n",
       "  <th>private_school</th>      <td>    0.0129</td> <td> 7.12e+06</td> <td> 1.82e-09</td> <td> 1.000</td> <td> -1.4e+07</td> <td>  1.4e+07</td>\n",
       "</tr>\n",
       "<tr>\n",
       "  <th>religious</th>           <td>   -1.1912</td> <td>    0.318</td> <td>   -3.745</td> <td> 0.000</td> <td>   -1.815</td> <td>   -0.568</td>\n",
       "</tr>\n",
       "<tr>\n",
       "  <th>for_sports_fans</th>     <td>    1.6876</td> <td>    0.352</td> <td>    4.798</td> <td> 0.000</td> <td>    0.998</td> <td>    2.377</td>\n",
       "</tr>\n",
       "<tr>\n",
       "  <th>party_school</th>        <td>    0.3711</td> <td>    0.755</td> <td>    0.492</td> <td> 0.623</td> <td>   -1.109</td> <td>    1.851</td>\n",
       "</tr>\n",
       "<tr>\n",
       "  <th>liberal_arts_school</th> <td>    1.2042</td> <td>    0.364</td> <td>    3.312</td> <td> 0.001</td> <td>    0.492</td> <td>    1.917</td>\n",
       "</tr>\n",
       "<tr>\n",
       "  <th>state_school</th>        <td>   -2.8988</td> <td> 7.12e+06</td> <td>-4.07e-07</td> <td> 1.000</td> <td> -1.4e+07</td> <td>  1.4e+07</td>\n",
       "</tr>\n",
       "<tr>\n",
       "  <th>research_university</th> <td>    1.6693</td> <td>    0.363</td> <td>    4.596</td> <td> 0.000</td> <td>    0.958</td> <td>    2.381</td>\n",
       "</tr>\n",
       "<tr>\n",
       "  <th>business</th>            <td>    1.9392</td> <td>    0.668</td> <td>    2.903</td> <td> 0.004</td> <td>    0.630</td> <td>    3.249</td>\n",
       "</tr>\n",
       "<tr>\n",
       "  <th>sober_school</th>        <td>  -26.9564</td> <td> 7.85e+05</td> <td>-3.43e-05</td> <td> 1.000</td> <td>-1.54e+06</td> <td> 1.54e+06</td>\n",
       "</tr>\n",
       "<tr>\n",
       "  <th>ivy_league</th>          <td>   19.7638</td> <td> 1.02e+04</td> <td>    0.002</td> <td> 0.998</td> <td>-1.99e+04</td> <td>    2e+04</td>\n",
       "</tr>\n",
       "</table>"
      ],
      "text/plain": [
       "<class 'statsmodels.iolib.summary.Summary'>\n",
       "\"\"\"\n",
       "                           Logit Regression Results                           \n",
       "==============================================================================\n",
       "Dep. Variable:             over_60000   No. Observations:                  960\n",
       "Model:                          Logit   Df Residuals:                      949\n",
       "Method:                           MLE   Df Model:                           10\n",
       "Date:                Mon, 15 Feb 2021   Pseudo R-squ.:                  0.3774\n",
       "Time:                        19:42:17   Log-Likelihood:                -195.65\n",
       "converged:                      False   LL-Null:                       -314.27\n",
       "Covariance Type:            nonrobust   LLR p-value:                 2.607e-45\n",
       "=======================================================================================\n",
       "                          coef    std err          z      P>|z|      [0.025      0.975]\n",
       "---------------------------------------------------------------------------------------\n",
       "const                  -2.8858   7.12e+06  -4.05e-07      1.000    -1.4e+07     1.4e+07\n",
       "engineering             5.4492      0.822      6.631      0.000       3.838       7.060\n",
       "private_school          0.0129   7.12e+06   1.82e-09      1.000    -1.4e+07     1.4e+07\n",
       "religious              -1.1912      0.318     -3.745      0.000      -1.815      -0.568\n",
       "for_sports_fans         1.6876      0.352      4.798      0.000       0.998       2.377\n",
       "party_school            0.3711      0.755      0.492      0.623      -1.109       1.851\n",
       "liberal_arts_school     1.2042      0.364      3.312      0.001       0.492       1.917\n",
       "state_school           -2.8988   7.12e+06  -4.07e-07      1.000    -1.4e+07     1.4e+07\n",
       "research_university     1.6693      0.363      4.596      0.000       0.958       2.381\n",
       "business                1.9392      0.668      2.903      0.004       0.630       3.249\n",
       "sober_school          -26.9564   7.85e+05  -3.43e-05      1.000   -1.54e+06    1.54e+06\n",
       "ivy_league             19.7638   1.02e+04      0.002      0.998   -1.99e+04       2e+04\n",
       "=======================================================================================\n",
       "\"\"\""
      ]
     },
     "execution_count": 164,
     "metadata": {},
     "output_type": "execute_result"
    }
   ],
   "source": [
    "# Let's look specifically at school types\n",
    "features = ['engineering', 'private_school', 'religious', 'for_sports_fans', 'party_school', 'liberal_arts_school', 'state_school', 'research_university', 'business', 'sober_school', 'ivy_league']\n",
    "X = statsmodel_df[features]\n",
    "X = pd.get_dummies(X, drop_first=True)\n",
    "\n",
    "statsmodel_df['over_60000'] = statsmodel_df['over_60000'].astype(int)\n",
    "y = statsmodel_df[['over_60000']]\n",
    "\n",
    "X = sm.tools.add_constant(X)\n",
    "logit_model = sm.Logit(y, X)\n",
    "result = logit_model.fit()\n",
    "\n",
    "result.summary()"
   ]
  },
  {
   "cell_type": "markdown",
   "metadata": {},
   "source": [
    "Based on p-values, school types that should remain in our model are: engineering, relgious, for_sports_fans, liberal_arts_school, research_university and business. "
   ]
  },
  {
   "cell_type": "code",
   "execution_count": 165,
   "metadata": {},
   "outputs": [
    {
     "name": "stdout",
     "output_type": "stream",
     "text": [
      "Optimization terminated successfully.\n",
      "         Current function value: 0.160062\n",
      "         Iterations 11\n"
     ]
    },
    {
     "data": {
      "text/html": [
       "<table class=\"simpletable\">\n",
       "<caption>Logit Regression Results</caption>\n",
       "<tr>\n",
       "  <th>Dep. Variable:</th>      <td>over_60000</td>    <th>  No. Observations:  </th>  <td>   960</td>  \n",
       "</tr>\n",
       "<tr>\n",
       "  <th>Model:</th>                 <td>Logit</td>      <th>  Df Residuals:      </th>  <td>   952</td>  \n",
       "</tr>\n",
       "<tr>\n",
       "  <th>Method:</th>                 <td>MLE</td>       <th>  Df Model:          </th>  <td>     7</td>  \n",
       "</tr>\n",
       "<tr>\n",
       "  <th>Date:</th>            <td>Mon, 15 Feb 2021</td> <th>  Pseudo R-squ.:     </th>  <td>0.5111</td>  \n",
       "</tr>\n",
       "<tr>\n",
       "  <th>Time:</th>                <td>19:46:42</td>     <th>  Log-Likelihood:    </th> <td> -153.66</td> \n",
       "</tr>\n",
       "<tr>\n",
       "  <th>converged:</th>             <td>True</td>       <th>  LL-Null:           </th> <td> -314.27</td> \n",
       "</tr>\n",
       "<tr>\n",
       "  <th>Covariance Type:</th>     <td>nonrobust</td>    <th>  LLR p-value:       </th> <td>1.766e-65</td>\n",
       "</tr>\n",
       "</table>\n",
       "<table class=\"simpletable\">\n",
       "<tr>\n",
       "                    <td></td>                      <th>coef</th>     <th>std err</th>      <th>z</th>      <th>P>|z|</th>  <th>[0.025</th>    <th>0.975]</th>  \n",
       "</tr>\n",
       "<tr>\n",
       "  <th>const</th>                                <td>    3.5588</td> <td>    0.828</td> <td>    4.296</td> <td> 0.000</td> <td>    1.935</td> <td>    5.182</td>\n",
       "</tr>\n",
       "<tr>\n",
       "  <th>AIAN_enrollment_percentage</th>           <td>  -25.9608</td> <td>   32.245</td> <td>   -0.805</td> <td> 0.421</td> <td>  -89.161</td> <td>   37.239</td>\n",
       "</tr>\n",
       "<tr>\n",
       "  <th>Asian_enrollment_percentage</th>          <td>   38.0020</td> <td>    7.612</td> <td>    4.993</td> <td> 0.000</td> <td>   23.083</td> <td>   52.921</td>\n",
       "</tr>\n",
       "<tr>\n",
       "  <th>Black_enrollment_percentage</th>          <td>   -8.6493</td> <td>    6.698</td> <td>   -1.291</td> <td> 0.197</td> <td>  -21.776</td> <td>    4.478</td>\n",
       "</tr>\n",
       "<tr>\n",
       "  <th>Hispanic_enrollment_percentage</th>       <td>    7.5547</td> <td>    6.083</td> <td>    1.242</td> <td> 0.214</td> <td>   -4.368</td> <td>   19.478</td>\n",
       "</tr>\n",
       "<tr>\n",
       "  <th>non_resident_enrollment_percentage</th>   <td>    5.5259</td> <td>    1.875</td> <td>    2.947</td> <td> 0.003</td> <td>    1.850</td> <td>    9.201</td>\n",
       "</tr>\n",
       "<tr>\n",
       "  <th>total_minority_enrollment_percentage</th> <td>  -10.9554</td> <td>    5.259</td> <td>   -2.083</td> <td> 0.037</td> <td>  -21.263</td> <td>   -0.648</td>\n",
       "</tr>\n",
       "<tr>\n",
       "  <th>women_enrollment_percentage</th>          <td>  -10.6314</td> <td>    1.411</td> <td>   -7.533</td> <td> 0.000</td> <td>  -13.397</td> <td>   -7.865</td>\n",
       "</tr>\n",
       "</table><br/><br/>Possibly complete quasi-separation: A fraction 0.10 of observations can be<br/>perfectly predicted. This might indicate that there is complete<br/>quasi-separation. In this case some parameters will not be identified."
      ],
      "text/plain": [
       "<class 'statsmodels.iolib.summary.Summary'>\n",
       "\"\"\"\n",
       "                           Logit Regression Results                           \n",
       "==============================================================================\n",
       "Dep. Variable:             over_60000   No. Observations:                  960\n",
       "Model:                          Logit   Df Residuals:                      952\n",
       "Method:                           MLE   Df Model:                            7\n",
       "Date:                Mon, 15 Feb 2021   Pseudo R-squ.:                  0.5111\n",
       "Time:                        19:46:42   Log-Likelihood:                -153.66\n",
       "converged:                       True   LL-Null:                       -314.27\n",
       "Covariance Type:            nonrobust   LLR p-value:                 1.766e-65\n",
       "========================================================================================================\n",
       "                                           coef    std err          z      P>|z|      [0.025      0.975]\n",
       "--------------------------------------------------------------------------------------------------------\n",
       "const                                    3.5588      0.828      4.296      0.000       1.935       5.182\n",
       "AIAN_enrollment_percentage             -25.9608     32.245     -0.805      0.421     -89.161      37.239\n",
       "Asian_enrollment_percentage             38.0020      7.612      4.993      0.000      23.083      52.921\n",
       "Black_enrollment_percentage             -8.6493      6.698     -1.291      0.197     -21.776       4.478\n",
       "Hispanic_enrollment_percentage           7.5547      6.083      1.242      0.214      -4.368      19.478\n",
       "non_resident_enrollment_percentage       5.5259      1.875      2.947      0.003       1.850       9.201\n",
       "total_minority_enrollment_percentage   -10.9554      5.259     -2.083      0.037     -21.263      -0.648\n",
       "women_enrollment_percentage            -10.6314      1.411     -7.533      0.000     -13.397      -7.865\n",
       "========================================================================================================\n",
       "\n",
       "Possibly complete quasi-separation: A fraction 0.10 of observations can be\n",
       "perfectly predicted. This might indicate that there is complete\n",
       "quasi-separation. In this case some parameters will not be identified.\n",
       "\"\"\""
      ]
     },
     "execution_count": 165,
     "metadata": {},
     "output_type": "execute_result"
    }
   ],
   "source": [
    "# Let's look specifically at enrollment\n",
    "features = ['AIAN_enrollment_percentage', 'Asian_enrollment_percentage', 'Black_enrollment_percentage', 'Hispanic_enrollment_percentage', 'non_resident_enrollment_percentage', 'total_minority_enrollment_percentage', 'women_enrollment_percentage']\n",
    "X = statsmodel_df[features]\n",
    "X = pd.get_dummies(X, drop_first=True)\n",
    "\n",
    "statsmodel_df['over_60000'] = statsmodel_df['over_60000'].astype(int)\n",
    "y = statsmodel_df[['over_60000']]\n",
    "\n",
    "X = sm.tools.add_constant(X)\n",
    "logit_model = sm.Logit(y, X)\n",
    "result = logit_model.fit()\n",
    "\n",
    "result.summary()"
   ]
  },
  {
   "cell_type": "markdown",
   "metadata": {},
   "source": [
    "Again, based on our p-values, it looks like enrollment for Asians, non-residents, and women have statistical significance. "
   ]
  },
  {
   "cell_type": "code",
   "execution_count": 167,
   "metadata": {},
   "outputs": [
    {
     "name": "stdout",
     "output_type": "stream",
     "text": [
      "Warning: Maximum number of iterations has been exceeded.\n",
      "         Current function value: 0.241849\n",
      "         Iterations: 35\n"
     ]
    },
    {
     "name": "stderr",
     "output_type": "stream",
     "text": [
      "/opt/anaconda3/lib/python3.8/site-packages/statsmodels/base/model.py:567: ConvergenceWarning: Maximum Likelihood optimization failed to converge. Check mle_retvals\n",
      "  warn(\"Maximum Likelihood optimization failed to converge. \"\n"
     ]
    },
    {
     "data": {
      "text/html": [
       "<table class=\"simpletable\">\n",
       "<caption>Logit Regression Results</caption>\n",
       "<tr>\n",
       "  <th>Dep. Variable:</th>      <td>over_60000</td>    <th>  No. Observations:  </th>  <td>   960</td>  \n",
       "</tr>\n",
       "<tr>\n",
       "  <th>Model:</th>                 <td>Logit</td>      <th>  Df Residuals:      </th>  <td>   954</td>  \n",
       "</tr>\n",
       "<tr>\n",
       "  <th>Method:</th>                 <td>MLE</td>       <th>  Df Model:          </th>  <td>     5</td>  \n",
       "</tr>\n",
       "<tr>\n",
       "  <th>Date:</th>            <td>Mon, 15 Feb 2021</td> <th>  Pseudo R-squ.:     </th>  <td>0.2612</td>  \n",
       "</tr>\n",
       "<tr>\n",
       "  <th>Time:</th>                <td>19:48:53</td>     <th>  Log-Likelihood:    </th> <td> -232.18</td> \n",
       "</tr>\n",
       "<tr>\n",
       "  <th>converged:</th>             <td>False</td>      <th>  LL-Null:           </th> <td> -314.27</td> \n",
       "</tr>\n",
       "<tr>\n",
       "  <th>Covariance Type:</th>     <td>nonrobust</td>    <th>  LLR p-value:       </th> <td>1.264e-33</td>\n",
       "</tr>\n",
       "</table>\n",
       "<table class=\"simpletable\">\n",
       "<tr>\n",
       "           <td></td>              <th>coef</th>     <th>std err</th>      <th>z</th>      <th>P>|z|</th>  <th>[0.025</th>    <th>0.975]</th>  \n",
       "</tr>\n",
       "<tr>\n",
       "  <th>const</th>               <td>   -2.7662</td> <td>    0.147</td> <td>  -18.782</td> <td> 0.000</td> <td>   -3.055</td> <td>   -2.478</td>\n",
       "</tr>\n",
       "<tr>\n",
       "  <th>school_rank_top_100</th> <td>    2.2962</td> <td>    0.429</td> <td>    5.350</td> <td> 0.000</td> <td>    1.455</td> <td>    3.137</td>\n",
       "</tr>\n",
       "<tr>\n",
       "  <th>school_rank_top_150</th> <td>    1.5134</td> <td>    0.486</td> <td>    3.115</td> <td> 0.002</td> <td>    0.561</td> <td>    2.466</td>\n",
       "</tr>\n",
       "<tr>\n",
       "  <th>school_rank_top_200</th> <td>   -0.5660</td> <td>    1.028</td> <td>   -0.550</td> <td> 0.582</td> <td>   -2.581</td> <td>    1.449</td>\n",
       "</tr>\n",
       "<tr>\n",
       "  <th>school_rank_top_250</th> <td>  -16.8658</td> <td> 4581.183</td> <td>   -0.004</td> <td> 0.997</td> <td>-8995.820</td> <td> 8962.088</td>\n",
       "</tr>\n",
       "<tr>\n",
       "  <th>school_rank_top_50</th>  <td>    5.1016</td> <td>    0.622</td> <td>    8.198</td> <td> 0.000</td> <td>    3.882</td> <td>    6.321</td>\n",
       "</tr>\n",
       "</table>"
      ],
      "text/plain": [
       "<class 'statsmodels.iolib.summary.Summary'>\n",
       "\"\"\"\n",
       "                           Logit Regression Results                           \n",
       "==============================================================================\n",
       "Dep. Variable:             over_60000   No. Observations:                  960\n",
       "Model:                          Logit   Df Residuals:                      954\n",
       "Method:                           MLE   Df Model:                            5\n",
       "Date:                Mon, 15 Feb 2021   Pseudo R-squ.:                  0.2612\n",
       "Time:                        19:48:53   Log-Likelihood:                -232.18\n",
       "converged:                      False   LL-Null:                       -314.27\n",
       "Covariance Type:            nonrobust   LLR p-value:                 1.264e-33\n",
       "=======================================================================================\n",
       "                          coef    std err          z      P>|z|      [0.025      0.975]\n",
       "---------------------------------------------------------------------------------------\n",
       "const                  -2.7662      0.147    -18.782      0.000      -3.055      -2.478\n",
       "school_rank_top_100     2.2962      0.429      5.350      0.000       1.455       3.137\n",
       "school_rank_top_150     1.5134      0.486      3.115      0.002       0.561       2.466\n",
       "school_rank_top_200    -0.5660      1.028     -0.550      0.582      -2.581       1.449\n",
       "school_rank_top_250   -16.8658   4581.183     -0.004      0.997   -8995.820    8962.088\n",
       "school_rank_top_50      5.1016      0.622      8.198      0.000       3.882       6.321\n",
       "=======================================================================================\n",
       "\"\"\""
      ]
     },
     "execution_count": 167,
     "metadata": {},
     "output_type": "execute_result"
    }
   ],
   "source": [
    "# Let's look specifically at school types\n",
    "features = ['school_rank']\n",
    "X = statsmodel_df[features]\n",
    "X = pd.get_dummies(X, drop_first=True)\n",
    "\n",
    "statsmodel_df['over_60000'] = statsmodel_df['over_60000'].astype(int)\n",
    "y = statsmodel_df[['over_60000']]\n",
    "\n",
    "X = sm.tools.add_constant(X)\n",
    "logit_model = sm.Logit(y, X)\n",
    "result = logit_model.fit()\n",
    "\n",
    "result.summary()"
   ]
  },
  {
   "cell_type": "markdown",
   "metadata": {},
   "source": [
    "When on its own, school rank seems to have a strong p value."
   ]
  },
  {
   "cell_type": "code",
   "execution_count": 168,
   "metadata": {},
   "outputs": [
    {
     "name": "stdout",
     "output_type": "stream",
     "text": [
      "Warning: Maximum number of iterations has been exceeded.\n",
      "         Current function value: 0.136452\n",
      "         Iterations: 35\n"
     ]
    },
    {
     "name": "stderr",
     "output_type": "stream",
     "text": [
      "/opt/anaconda3/lib/python3.8/site-packages/statsmodels/base/model.py:567: ConvergenceWarning: Maximum Likelihood optimization failed to converge. Check mle_retvals\n",
      "  warn(\"Maximum Likelihood optimization failed to converge. \"\n"
     ]
    },
    {
     "data": {
      "text/html": [
       "<table class=\"simpletable\">\n",
       "<caption>Logit Regression Results</caption>\n",
       "<tr>\n",
       "  <th>Dep. Variable:</th>      <td>over_60000</td>    <th>  No. Observations:  </th>  <td>   960</td>  \n",
       "</tr>\n",
       "<tr>\n",
       "  <th>Model:</th>                 <td>Logit</td>      <th>  Df Residuals:      </th>  <td>   946</td>  \n",
       "</tr>\n",
       "<tr>\n",
       "  <th>Method:</th>                 <td>MLE</td>       <th>  Df Model:          </th>  <td>    13</td>  \n",
       "</tr>\n",
       "<tr>\n",
       "  <th>Date:</th>            <td>Mon, 15 Feb 2021</td> <th>  Pseudo R-squ.:     </th>  <td>0.5832</td>  \n",
       "</tr>\n",
       "<tr>\n",
       "  <th>Time:</th>                <td>19:52:21</td>     <th>  Log-Likelihood:    </th> <td> -130.99</td> \n",
       "</tr>\n",
       "<tr>\n",
       "  <th>converged:</th>             <td>False</td>      <th>  LL-Null:           </th> <td> -314.27</td> \n",
       "</tr>\n",
       "<tr>\n",
       "  <th>Covariance Type:</th>     <td>nonrobust</td>    <th>  LLR p-value:       </th> <td>2.539e-70</td>\n",
       "</tr>\n",
       "</table>\n",
       "<table class=\"simpletable\">\n",
       "<tr>\n",
       "                   <td></td>                     <th>coef</th>     <th>std err</th>      <th>z</th>      <th>P>|z|</th>  <th>[0.025</th>    <th>0.975]</th>  \n",
       "</tr>\n",
       "<tr>\n",
       "  <th>const</th>                              <td>   -0.1413</td> <td>    0.857</td> <td>   -0.165</td> <td> 0.869</td> <td>   -1.821</td> <td>    1.539</td>\n",
       "</tr>\n",
       "<tr>\n",
       "  <th>engineering</th>                        <td>    3.2926</td> <td>    0.929</td> <td>    3.543</td> <td> 0.000</td> <td>    1.471</td> <td>    5.114</td>\n",
       "</tr>\n",
       "<tr>\n",
       "  <th>religious</th>                          <td>   -0.0775</td> <td>    0.373</td> <td>   -0.208</td> <td> 0.835</td> <td>   -0.809</td> <td>    0.654</td>\n",
       "</tr>\n",
       "<tr>\n",
       "  <th>for_sports_fans</th>                    <td>    1.6771</td> <td>    0.437</td> <td>    3.835</td> <td> 0.000</td> <td>    0.820</td> <td>    2.534</td>\n",
       "</tr>\n",
       "<tr>\n",
       "  <th>liberal_arts_school</th>                <td>    1.5412</td> <td>    0.414</td> <td>    3.724</td> <td> 0.000</td> <td>    0.730</td> <td>    2.352</td>\n",
       "</tr>\n",
       "<tr>\n",
       "  <th>research_university</th>                <td>   -2.2112</td> <td>    1.002</td> <td>   -2.208</td> <td> 0.027</td> <td>   -4.174</td> <td>   -0.248</td>\n",
       "</tr>\n",
       "<tr>\n",
       "  <th>Asian_enrollment_percentage</th>        <td>   23.7349</td> <td>    3.328</td> <td>    7.132</td> <td> 0.000</td> <td>   17.212</td> <td>   30.257</td>\n",
       "</tr>\n",
       "<tr>\n",
       "  <th>non_resident_enrollment_percentage</th> <td>    6.2817</td> <td>    2.137</td> <td>    2.939</td> <td> 0.003</td> <td>    2.093</td> <td>   10.471</td>\n",
       "</tr>\n",
       "<tr>\n",
       "  <th>women_enrollment_percentage</th>        <td>   -9.4865</td> <td>    1.603</td> <td>   -5.917</td> <td> 0.000</td> <td>  -12.629</td> <td>   -6.344</td>\n",
       "</tr>\n",
       "<tr>\n",
       "  <th>school_rank_top_100</th>                <td>    3.1372</td> <td>    1.065</td> <td>    2.946</td> <td> 0.003</td> <td>    1.050</td> <td>    5.224</td>\n",
       "</tr>\n",
       "<tr>\n",
       "  <th>school_rank_top_150</th>                <td>    0.6187</td> <td>    1.162</td> <td>    0.532</td> <td> 0.594</td> <td>   -1.659</td> <td>    2.896</td>\n",
       "</tr>\n",
       "<tr>\n",
       "  <th>school_rank_top_200</th>                <td>    0.2354</td> <td>    1.521</td> <td>    0.155</td> <td> 0.877</td> <td>   -2.745</td> <td>    3.216</td>\n",
       "</tr>\n",
       "<tr>\n",
       "  <th>school_rank_top_250</th>                <td>  -12.1838</td> <td> 1432.697</td> <td>   -0.009</td> <td> 0.993</td> <td>-2820.218</td> <td> 2795.851</td>\n",
       "</tr>\n",
       "<tr>\n",
       "  <th>school_rank_top_50</th>                 <td>    4.9731</td> <td>    1.129</td> <td>    4.406</td> <td> 0.000</td> <td>    2.761</td> <td>    7.185</td>\n",
       "</tr>\n",
       "</table>"
      ],
      "text/plain": [
       "<class 'statsmodels.iolib.summary.Summary'>\n",
       "\"\"\"\n",
       "                           Logit Regression Results                           \n",
       "==============================================================================\n",
       "Dep. Variable:             over_60000   No. Observations:                  960\n",
       "Model:                          Logit   Df Residuals:                      946\n",
       "Method:                           MLE   Df Model:                           13\n",
       "Date:                Mon, 15 Feb 2021   Pseudo R-squ.:                  0.5832\n",
       "Time:                        19:52:21   Log-Likelihood:                -130.99\n",
       "converged:                      False   LL-Null:                       -314.27\n",
       "Covariance Type:            nonrobust   LLR p-value:                 2.539e-70\n",
       "======================================================================================================\n",
       "                                         coef    std err          z      P>|z|      [0.025      0.975]\n",
       "------------------------------------------------------------------------------------------------------\n",
       "const                                 -0.1413      0.857     -0.165      0.869      -1.821       1.539\n",
       "engineering                            3.2926      0.929      3.543      0.000       1.471       5.114\n",
       "religious                             -0.0775      0.373     -0.208      0.835      -0.809       0.654\n",
       "for_sports_fans                        1.6771      0.437      3.835      0.000       0.820       2.534\n",
       "liberal_arts_school                    1.5412      0.414      3.724      0.000       0.730       2.352\n",
       "research_university                   -2.2112      1.002     -2.208      0.027      -4.174      -0.248\n",
       "Asian_enrollment_percentage           23.7349      3.328      7.132      0.000      17.212      30.257\n",
       "non_resident_enrollment_percentage     6.2817      2.137      2.939      0.003       2.093      10.471\n",
       "women_enrollment_percentage           -9.4865      1.603     -5.917      0.000     -12.629      -6.344\n",
       "school_rank_top_100                    3.1372      1.065      2.946      0.003       1.050       5.224\n",
       "school_rank_top_150                    0.6187      1.162      0.532      0.594      -1.659       2.896\n",
       "school_rank_top_200                    0.2354      1.521      0.155      0.877      -2.745       3.216\n",
       "school_rank_top_250                  -12.1838   1432.697     -0.009      0.993   -2820.218    2795.851\n",
       "school_rank_top_50                     4.9731      1.129      4.406      0.000       2.761       7.185\n",
       "======================================================================================================\n",
       "\"\"\""
      ]
     },
     "execution_count": 168,
     "metadata": {},
     "output_type": "execute_result"
    }
   ],
   "source": [
    "# Combining features together\n",
    "# Let's look specifically at school types\n",
    "features = ['engineering', 'religious', 'for_sports_fans', 'liberal_arts_school', 'research_university', 'Asian_enrollment_percentage', 'non_resident_enrollment_percentage', 'women_enrollment_percentage', 'school_rank']\n",
    "X = statsmodel_df[features]\n",
    "X = pd.get_dummies(X, drop_first=True)\n",
    "\n",
    "statsmodel_df['over_60000'] = statsmodel_df['over_60000'].astype(int)\n",
    "y = statsmodel_df[['over_60000']]\n",
    "\n",
    "X = sm.tools.add_constant(X)\n",
    "logit_model = sm.Logit(y, X)\n",
    "result = logit_model.fit()\n",
    "\n",
    "result.summary()"
   ]
  },
  {
   "cell_type": "code",
   "execution_count": 210,
   "metadata": {},
   "outputs": [
    {
     "name": "stdout",
     "output_type": "stream",
     "text": [
      "Optimization terminated successfully.\n",
      "         Current function value: 0.202187\n",
      "         Iterations 8\n"
     ]
    },
    {
     "data": {
      "text/html": [
       "<table class=\"simpletable\">\n",
       "<caption>Logit Regression Results</caption>\n",
       "<tr>\n",
       "  <th>Dep. Variable:</th>      <td>over_60000</td>    <th>  No. Observations:  </th>  <td>   960</td>  \n",
       "</tr>\n",
       "<tr>\n",
       "  <th>Model:</th>                 <td>Logit</td>      <th>  Df Residuals:      </th>  <td>   954</td>  \n",
       "</tr>\n",
       "<tr>\n",
       "  <th>Method:</th>                 <td>MLE</td>       <th>  Df Model:          </th>  <td>     5</td>  \n",
       "</tr>\n",
       "<tr>\n",
       "  <th>Date:</th>            <td>Mon, 15 Feb 2021</td> <th>  Pseudo R-squ.:     </th>  <td>0.3824</td>  \n",
       "</tr>\n",
       "<tr>\n",
       "  <th>Time:</th>                <td>20:27:08</td>     <th>  Log-Likelihood:    </th> <td> -194.10</td> \n",
       "</tr>\n",
       "<tr>\n",
       "  <th>converged:</th>             <td>True</td>       <th>  LL-Null:           </th> <td> -314.27</td> \n",
       "</tr>\n",
       "<tr>\n",
       "  <th>Covariance Type:</th>     <td>nonrobust</td>    <th>  LLR p-value:       </th> <td>6.482e-50</td>\n",
       "</tr>\n",
       "</table>\n",
       "<table class=\"simpletable\">\n",
       "<tr>\n",
       "               <td></td>                  <th>coef</th>     <th>std err</th>      <th>z</th>      <th>P>|z|</th>  <th>[0.025</th>    <th>0.975]</th>  \n",
       "</tr>\n",
       "<tr>\n",
       "  <th>const</th>                       <td>   -4.7548</td> <td>    0.338</td> <td>  -14.084</td> <td> 0.000</td> <td>   -5.416</td> <td>   -4.093</td>\n",
       "</tr>\n",
       "<tr>\n",
       "  <th>engineering</th>                 <td>    5.1354</td> <td>    0.712</td> <td>    7.212</td> <td> 0.000</td> <td>    3.740</td> <td>    6.531</td>\n",
       "</tr>\n",
       "<tr>\n",
       "  <th>for_sports_fans</th>             <td>    1.2795</td> <td>    0.347</td> <td>    3.689</td> <td> 0.000</td> <td>    0.600</td> <td>    1.959</td>\n",
       "</tr>\n",
       "<tr>\n",
       "  <th>liberal_arts_school</th>         <td>    1.5166</td> <td>    0.371</td> <td>    4.088</td> <td> 0.000</td> <td>    0.790</td> <td>    2.244</td>\n",
       "</tr>\n",
       "<tr>\n",
       "  <th>research_university</th>         <td>    0.8368</td> <td>    0.365</td> <td>    2.292</td> <td> 0.022</td> <td>    0.121</td> <td>    1.552</td>\n",
       "</tr>\n",
       "<tr>\n",
       "  <th>Asian_enrollment_percentage</th> <td>   22.1840</td> <td>    2.576</td> <td>    8.613</td> <td> 0.000</td> <td>   17.136</td> <td>   27.232</td>\n",
       "</tr>\n",
       "</table>"
      ],
      "text/plain": [
       "<class 'statsmodels.iolib.summary.Summary'>\n",
       "\"\"\"\n",
       "                           Logit Regression Results                           \n",
       "==============================================================================\n",
       "Dep. Variable:             over_60000   No. Observations:                  960\n",
       "Model:                          Logit   Df Residuals:                      954\n",
       "Method:                           MLE   Df Model:                            5\n",
       "Date:                Mon, 15 Feb 2021   Pseudo R-squ.:                  0.3824\n",
       "Time:                        20:27:08   Log-Likelihood:                -194.10\n",
       "converged:                       True   LL-Null:                       -314.27\n",
       "Covariance Type:            nonrobust   LLR p-value:                 6.482e-50\n",
       "===============================================================================================\n",
       "                                  coef    std err          z      P>|z|      [0.025      0.975]\n",
       "-----------------------------------------------------------------------------------------------\n",
       "const                          -4.7548      0.338    -14.084      0.000      -5.416      -4.093\n",
       "engineering                     5.1354      0.712      7.212      0.000       3.740       6.531\n",
       "for_sports_fans                 1.2795      0.347      3.689      0.000       0.600       1.959\n",
       "liberal_arts_school             1.5166      0.371      4.088      0.000       0.790       2.244\n",
       "research_university             0.8368      0.365      2.292      0.022       0.121       1.552\n",
       "Asian_enrollment_percentage    22.1840      2.576      8.613      0.000      17.136      27.232\n",
       "===============================================================================================\n",
       "\"\"\""
      ]
     },
     "execution_count": 210,
     "metadata": {},
     "output_type": "execute_result"
    }
   ],
   "source": [
    "# Let's get rid of features with low p-values \n",
    "features = ['engineering', 'for_sports_fans', 'liberal_arts_school', 'research_university', 'Asian_enrollment_percentage']\n",
    "X = statsmodel_df[features]\n",
    "X = pd.get_dummies(X, drop_first=True)\n",
    "\n",
    "statsmodel_df['over_60000'] = statsmodel_df['over_60000'].astype(int)\n",
    "y = statsmodel_df[['over_60000']]\n",
    "\n",
    "X = sm.tools.add_constant(X)\n",
    "logit_model = sm.Logit(y, X)\n",
    "result = logit_model.fit()\n",
    "\n",
    "result.summary()"
   ]
  },
  {
   "cell_type": "code",
   "execution_count": 227,
   "metadata": {},
   "outputs": [
    {
     "name": "stdout",
     "output_type": "stream",
     "text": [
      "Warning: Maximum number of iterations has been exceeded.\n",
      "         Current function value: 0.101254\n",
      "         Iterations: 35\n"
     ]
    },
    {
     "name": "stderr",
     "output_type": "stream",
     "text": [
      "/opt/anaconda3/lib/python3.8/site-packages/statsmodels/base/model.py:567: ConvergenceWarning: Maximum Likelihood optimization failed to converge. Check mle_retvals\n",
      "  warn(\"Maximum Likelihood optimization failed to converge. \"\n"
     ]
    },
    {
     "data": {
      "text/html": [
       "<table class=\"simpletable\">\n",
       "<caption>Logit Regression Results</caption>\n",
       "<tr>\n",
       "  <th>Dep. Variable:</th>      <td>over_60000</td>    <th>  No. Observations:  </th>  <td>   960</td>  \n",
       "</tr>\n",
       "<tr>\n",
       "  <th>Model:</th>                 <td>Logit</td>      <th>  Df Residuals:      </th>  <td>   944</td>  \n",
       "</tr>\n",
       "<tr>\n",
       "  <th>Method:</th>                 <td>MLE</td>       <th>  Df Model:          </th>  <td>    15</td>  \n",
       "</tr>\n",
       "<tr>\n",
       "  <th>Date:</th>            <td>Mon, 15 Feb 2021</td> <th>  Pseudo R-squ.:     </th>  <td>0.6907</td>  \n",
       "</tr>\n",
       "<tr>\n",
       "  <th>Time:</th>                <td>20:38:06</td>     <th>  Log-Likelihood:    </th> <td> -97.204</td> \n",
       "</tr>\n",
       "<tr>\n",
       "  <th>converged:</th>             <td>False</td>      <th>  LL-Null:           </th> <td> -314.27</td> \n",
       "</tr>\n",
       "<tr>\n",
       "  <th>Covariance Type:</th>     <td>nonrobust</td>    <th>  LLR p-value:       </th> <td>4.548e-83</td>\n",
       "</tr>\n",
       "</table>\n",
       "<table class=\"simpletable\">\n",
       "<tr>\n",
       "                   <td></td>                     <th>coef</th>     <th>std err</th>      <th>z</th>      <th>P>|z|</th>  <th>[0.025</th>    <th>0.975]</th>  \n",
       "</tr>\n",
       "<tr>\n",
       "  <th>const</th>                              <td>   -5.6168</td> <td>    1.738</td> <td>   -3.232</td> <td> 0.001</td> <td>   -9.023</td> <td>   -2.211</td>\n",
       "</tr>\n",
       "<tr>\n",
       "  <th>engineering</th>                        <td>    0.6640</td> <td>    1.417</td> <td>    0.469</td> <td> 0.639</td> <td>   -2.113</td> <td>    3.441</td>\n",
       "</tr>\n",
       "<tr>\n",
       "  <th>for_sports_fans</th>                    <td>    1.5321</td> <td>    0.508</td> <td>    3.014</td> <td> 0.003</td> <td>    0.536</td> <td>    2.528</td>\n",
       "</tr>\n",
       "<tr>\n",
       "  <th>liberal_arts_school</th>                <td>   -1.1586</td> <td>    0.619</td> <td>   -1.873</td> <td> 0.061</td> <td>   -2.371</td> <td>    0.054</td>\n",
       "</tr>\n",
       "<tr>\n",
       "  <th>research_university</th>                <td>    0.0805</td> <td>    1.297</td> <td>    0.062</td> <td> 0.951</td> <td>   -2.461</td> <td>    2.622</td>\n",
       "</tr>\n",
       "<tr>\n",
       "  <th>Asian_enrollment_percentage</th>        <td>   18.6816</td> <td>    3.843</td> <td>    4.861</td> <td> 0.000</td> <td>   11.149</td> <td>   26.214</td>\n",
       "</tr>\n",
       "<tr>\n",
       "  <th>non_resident_enrollment_percentage</th> <td>    5.1782</td> <td>    2.506</td> <td>    2.067</td> <td> 0.039</td> <td>    0.267</td> <td>   10.089</td>\n",
       "</tr>\n",
       "<tr>\n",
       "  <th>women_enrollment_percentage</th>        <td>   -9.2286</td> <td>    1.607</td> <td>   -5.741</td> <td> 0.000</td> <td>  -12.379</td> <td>   -6.078</td>\n",
       "</tr>\n",
       "<tr>\n",
       "  <th>meaning_percentage</th>                 <td>    0.0700</td> <td>    0.026</td> <td>    2.676</td> <td> 0.007</td> <td>    0.019</td> <td>    0.121</td>\n",
       "</tr>\n",
       "<tr>\n",
       "  <th>stem_percentage</th>                    <td>    0.0781</td> <td>    0.018</td> <td>    4.329</td> <td> 0.000</td> <td>    0.043</td> <td>    0.113</td>\n",
       "</tr>\n",
       "<tr>\n",
       "  <th>in_state_total</th>                     <td>    2.1065</td> <td>    0.369</td> <td>    5.701</td> <td> 0.000</td> <td>    1.382</td> <td>    2.831</td>\n",
       "</tr>\n",
       "<tr>\n",
       "  <th>school_rank_top_100</th>                <td>    0.0387</td> <td>    1.442</td> <td>    0.027</td> <td> 0.979</td> <td>   -2.788</td> <td>    2.866</td>\n",
       "</tr>\n",
       "<tr>\n",
       "  <th>school_rank_top_150</th>                <td>   -2.0133</td> <td>    1.627</td> <td>   -1.237</td> <td> 0.216</td> <td>   -5.203</td> <td>    1.176</td>\n",
       "</tr>\n",
       "<tr>\n",
       "  <th>school_rank_top_200</th>                <td>   -2.0501</td> <td>    2.002</td> <td>   -1.024</td> <td> 0.306</td> <td>   -5.975</td> <td>    1.875</td>\n",
       "</tr>\n",
       "<tr>\n",
       "  <th>school_rank_top_250</th>                <td>   -4.1958</td> <td>   25.299</td> <td>   -0.166</td> <td> 0.868</td> <td>  -53.780</td> <td>   45.388</td>\n",
       "</tr>\n",
       "<tr>\n",
       "  <th>school_rank_top_50</th>                 <td>    0.4724</td> <td>    1.581</td> <td>    0.299</td> <td> 0.765</td> <td>   -2.626</td> <td>    3.571</td>\n",
       "</tr>\n",
       "</table>"
      ],
      "text/plain": [
       "<class 'statsmodels.iolib.summary.Summary'>\n",
       "\"\"\"\n",
       "                           Logit Regression Results                           \n",
       "==============================================================================\n",
       "Dep. Variable:             over_60000   No. Observations:                  960\n",
       "Model:                          Logit   Df Residuals:                      944\n",
       "Method:                           MLE   Df Model:                           15\n",
       "Date:                Mon, 15 Feb 2021   Pseudo R-squ.:                  0.6907\n",
       "Time:                        20:38:06   Log-Likelihood:                -97.204\n",
       "converged:                      False   LL-Null:                       -314.27\n",
       "Covariance Type:            nonrobust   LLR p-value:                 4.548e-83\n",
       "======================================================================================================\n",
       "                                         coef    std err          z      P>|z|      [0.025      0.975]\n",
       "------------------------------------------------------------------------------------------------------\n",
       "const                                 -5.6168      1.738     -3.232      0.001      -9.023      -2.211\n",
       "engineering                            0.6640      1.417      0.469      0.639      -2.113       3.441\n",
       "for_sports_fans                        1.5321      0.508      3.014      0.003       0.536       2.528\n",
       "liberal_arts_school                   -1.1586      0.619     -1.873      0.061      -2.371       0.054\n",
       "research_university                    0.0805      1.297      0.062      0.951      -2.461       2.622\n",
       "Asian_enrollment_percentage           18.6816      3.843      4.861      0.000      11.149      26.214\n",
       "non_resident_enrollment_percentage     5.1782      2.506      2.067      0.039       0.267      10.089\n",
       "women_enrollment_percentage           -9.2286      1.607     -5.741      0.000     -12.379      -6.078\n",
       "meaning_percentage                     0.0700      0.026      2.676      0.007       0.019       0.121\n",
       "stem_percentage                        0.0781      0.018      4.329      0.000       0.043       0.113\n",
       "in_state_total                         2.1065      0.369      5.701      0.000       1.382       2.831\n",
       "school_rank_top_100                    0.0387      1.442      0.027      0.979      -2.788       2.866\n",
       "school_rank_top_150                   -2.0133      1.627     -1.237      0.216      -5.203       1.176\n",
       "school_rank_top_200                   -2.0501      2.002     -1.024      0.306      -5.975       1.875\n",
       "school_rank_top_250                   -4.1958     25.299     -0.166      0.868     -53.780      45.388\n",
       "school_rank_top_50                     0.4724      1.581      0.299      0.765      -2.626       3.571\n",
       "======================================================================================================\n",
       "\"\"\""
      ]
     },
     "execution_count": 227,
     "metadata": {},
     "output_type": "execute_result"
    }
   ],
   "source": [
    "# Add additional features\n",
    "features = ['engineering', 'for_sports_fans', 'liberal_arts_school', 'research_university', 'Asian_enrollment_percentage', 'non_resident_enrollment_percentage', 'women_enrollment_percentage', 'school_rank', 'meaning_percentage', 'stem_percentage', 'in_state_total']\n",
    "X = statsmodel_df[features]\n",
    "X = pd.get_dummies(X, drop_first=True)\n",
    "\n",
    "statsmodel_df['over_60000'] = statsmodel_df['over_60000'].astype(int)\n",
    "y = statsmodel_df[['over_60000']]\n",
    "\n",
    "X = sm.tools.add_constant(X)\n",
    "logit_model = sm.Logit(y, X)\n",
    "result = logit_model.fit()\n",
    "\n",
    "result.summary()"
   ]
  },
  {
   "cell_type": "markdown",
   "metadata": {},
   "source": [
    "Although meaning and stem percentage have low p values, their coefficients are so low that it doesn't really impact the model. "
   ]
  },
  {
   "cell_type": "code",
   "execution_count": 228,
   "metadata": {},
   "outputs": [
    {
     "name": "stdout",
     "output_type": "stream",
     "text": [
      "Optimization terminated successfully.\n",
      "         Current function value: 0.136751\n",
      "         Iterations 9\n"
     ]
    },
    {
     "data": {
      "text/html": [
       "<table class=\"simpletable\">\n",
       "<caption>Logit Regression Results</caption>\n",
       "<tr>\n",
       "  <th>Dep. Variable:</th>      <td>over_60000</td>    <th>  No. Observations:  </th>  <td>   960</td>  \n",
       "</tr>\n",
       "<tr>\n",
       "  <th>Model:</th>                 <td>Logit</td>      <th>  Df Residuals:      </th>  <td>   950</td>  \n",
       "</tr>\n",
       "<tr>\n",
       "  <th>Method:</th>                 <td>MLE</td>       <th>  Df Model:          </th>  <td>     9</td>  \n",
       "</tr>\n",
       "<tr>\n",
       "  <th>Date:</th>            <td>Mon, 15 Feb 2021</td> <th>  Pseudo R-squ.:     </th>  <td>0.5823</td>  \n",
       "</tr>\n",
       "<tr>\n",
       "  <th>Time:</th>                <td>20:39:29</td>     <th>  Log-Likelihood:    </th> <td> -131.28</td> \n",
       "</tr>\n",
       "<tr>\n",
       "  <th>converged:</th>             <td>True</td>       <th>  LL-Null:           </th> <td> -314.27</td> \n",
       "</tr>\n",
       "<tr>\n",
       "  <th>Covariance Type:</th>     <td>nonrobust</td>    <th>  LLR p-value:       </th> <td>2.452e-73</td>\n",
       "</tr>\n",
       "</table>\n",
       "<table class=\"simpletable\">\n",
       "<tr>\n",
       "                   <td></td>                     <th>coef</th>     <th>std err</th>      <th>z</th>      <th>P>|z|</th>  <th>[0.025</th>    <th>0.975]</th>  \n",
       "</tr>\n",
       "<tr>\n",
       "  <th>const</th>                              <td>   -0.1781</td> <td>    0.854</td> <td>   -0.209</td> <td> 0.835</td> <td>   -1.852</td> <td>    1.496</td>\n",
       "</tr>\n",
       "<tr>\n",
       "  <th>engineering</th>                        <td>    3.4183</td> <td>    0.912</td> <td>    3.748</td> <td> 0.000</td> <td>    1.631</td> <td>    5.206</td>\n",
       "</tr>\n",
       "<tr>\n",
       "  <th>for_sports_fans</th>                    <td>    1.6713</td> <td>    0.433</td> <td>    3.858</td> <td> 0.000</td> <td>    0.822</td> <td>    2.520</td>\n",
       "</tr>\n",
       "<tr>\n",
       "  <th>liberal_arts_school</th>                <td>    1.5505</td> <td>    0.414</td> <td>    3.748</td> <td> 0.000</td> <td>    0.740</td> <td>    2.361</td>\n",
       "</tr>\n",
       "<tr>\n",
       "  <th>research_university</th>                <td>   -1.9078</td> <td>    0.655</td> <td>   -2.915</td> <td> 0.004</td> <td>   -3.191</td> <td>   -0.625</td>\n",
       "</tr>\n",
       "<tr>\n",
       "  <th>Asian_enrollment_percentage</th>        <td>   23.7254</td> <td>    3.279</td> <td>    7.235</td> <td> 0.000</td> <td>   17.298</td> <td>   30.153</td>\n",
       "</tr>\n",
       "<tr>\n",
       "  <th>non_resident_enrollment_percentage</th> <td>    6.3865</td> <td>    2.103</td> <td>    3.037</td> <td> 0.002</td> <td>    2.264</td> <td>   10.509</td>\n",
       "</tr>\n",
       "<tr>\n",
       "  <th>women_enrollment_percentage</th>        <td>   -9.4998</td> <td>    1.587</td> <td>   -5.986</td> <td> 0.000</td> <td>  -12.610</td> <td>   -6.389</td>\n",
       "</tr>\n",
       "<tr>\n",
       "  <th>school_rank_top_50</th>                 <td>    4.6797</td> <td>    0.849</td> <td>    5.514</td> <td> 0.000</td> <td>    3.016</td> <td>    6.343</td>\n",
       "</tr>\n",
       "<tr>\n",
       "  <th>school_rank_top_100</th>                <td>    2.8388</td> <td>    0.752</td> <td>    3.774</td> <td> 0.000</td> <td>    1.365</td> <td>    4.313</td>\n",
       "</tr>\n",
       "</table>"
      ],
      "text/plain": [
       "<class 'statsmodels.iolib.summary.Summary'>\n",
       "\"\"\"\n",
       "                           Logit Regression Results                           \n",
       "==============================================================================\n",
       "Dep. Variable:             over_60000   No. Observations:                  960\n",
       "Model:                          Logit   Df Residuals:                      950\n",
       "Method:                           MLE   Df Model:                            9\n",
       "Date:                Mon, 15 Feb 2021   Pseudo R-squ.:                  0.5823\n",
       "Time:                        20:39:29   Log-Likelihood:                -131.28\n",
       "converged:                       True   LL-Null:                       -314.27\n",
       "Covariance Type:            nonrobust   LLR p-value:                 2.452e-73\n",
       "======================================================================================================\n",
       "                                         coef    std err          z      P>|z|      [0.025      0.975]\n",
       "------------------------------------------------------------------------------------------------------\n",
       "const                                 -0.1781      0.854     -0.209      0.835      -1.852       1.496\n",
       "engineering                            3.4183      0.912      3.748      0.000       1.631       5.206\n",
       "for_sports_fans                        1.6713      0.433      3.858      0.000       0.822       2.520\n",
       "liberal_arts_school                    1.5505      0.414      3.748      0.000       0.740       2.361\n",
       "research_university                   -1.9078      0.655     -2.915      0.004      -3.191      -0.625\n",
       "Asian_enrollment_percentage           23.7254      3.279      7.235      0.000      17.298      30.153\n",
       "non_resident_enrollment_percentage     6.3865      2.103      3.037      0.002       2.264      10.509\n",
       "women_enrollment_percentage           -9.4998      1.587     -5.986      0.000     -12.610      -6.389\n",
       "school_rank_top_50                     4.6797      0.849      5.514      0.000       3.016       6.343\n",
       "school_rank_top_100                    2.8388      0.752      3.774      0.000       1.365       4.313\n",
       "======================================================================================================\n",
       "\"\"\""
      ]
     },
     "execution_count": 228,
     "metadata": {},
     "output_type": "execute_result"
    }
   ],
   "source": [
    "features = ['engineering', 'for_sports_fans', 'liberal_arts_school', 'research_university', 'Asian_enrollment_percentage', 'non_resident_enrollment_percentage', 'women_enrollment_percentage', 'school_rank_top_50', 'school_rank_top_100']\n",
    "X = X[features]\n",
    "\n",
    "statsmodel_df['over_60000'] = statsmodel_df['over_60000'].astype(int)\n",
    "y = statsmodel_df[['over_60000']]\n",
    "\n",
    "X = sm.tools.add_constant(X)\n",
    "logit_model = sm.Logit(y, X)\n",
    "result = logit_model.fit()\n",
    "\n",
    "result.summary()"
   ]
  },
  {
   "cell_type": "markdown",
   "metadata": {},
   "source": [
    "### Back to Scikit Learn to Measure Accuracy"
   ]
  },
  {
   "cell_type": "code",
   "execution_count": 229,
   "metadata": {},
   "outputs": [
    {
     "name": "stderr",
     "output_type": "stream",
     "text": [
      "/opt/anaconda3/lib/python3.8/site-packages/sklearn/utils/validation.py:73: DataConversionWarning: A column-vector y was passed when a 1d array was expected. Please change the shape of y to (n_samples, ), for example using ravel().\n",
      "  return f(**kwargs)\n"
     ]
    }
   ],
   "source": [
    "# Define features and target \n",
    "\n",
    "# Split into train and test \n",
    "X_train, X_test, y_train, y_test = train_test_split(X, y, test_size=0.25, random_state=42)\n",
    "\n",
    "# Fit model \n",
    "logreg = LogisticRegression(fit_intercept=False, C=1e12, solver='liblinear')\n",
    "model_log = logreg.fit(X_train, y_train)"
   ]
  },
  {
   "cell_type": "code",
   "execution_count": 171,
   "metadata": {},
   "outputs": [
    {
     "data": {
      "text/plain": [
       "array([[640,   8],\n",
       "       [ 26,  46]])"
      ]
     },
     "execution_count": 171,
     "metadata": {},
     "output_type": "execute_result"
    }
   ],
   "source": [
    "# Check confusion matrix \n",
    "y_hat_test = logreg.predict(X_test)\n",
    "y_hat_train = logreg.predict(X_train)\n",
    "\n",
    "from sklearn.metrics import confusion_matrix\n",
    "cf = confusion_matrix(y_train, y_hat_train)\n",
    "cf"
   ]
  },
  {
   "cell_type": "code",
   "execution_count": 230,
   "metadata": {},
   "outputs": [
    {
     "data": {
      "text/plain": [
       "<sklearn.metrics._plot.confusion_matrix.ConfusionMatrixDisplay at 0x7f846b6112b0>"
      ]
     },
     "execution_count": 230,
     "metadata": {},
     "output_type": "execute_result"
    },
    {
     "data": {
      "image/png": "[encoded data removed]",
      "text/plain": [
       "<Figure size 432x288 with 2 Axes>"
      ]
     },
     "metadata": {},
     "output_type": "display_data"
    }
   ],
   "source": [
    "# Plot confusion matrix \n",
    "from sklearn.metrics import plot_confusion_matrix \n",
    "plot_confusion_matrix(logreg, X_test, y_test)"
   ]
  },
  {
   "cell_type": "code",
   "execution_count": 231,
   "metadata": {},
   "outputs": [
    {
     "name": "stdout",
     "output_type": "stream",
     "text": [
      "Training AUC: 0.9024390243902439\n"
     ]
    },
    {
     "data": {
      "image/png": "[encoded data removed]",
      "text/plain": [
       "<Figure size 360x288 with 1 Axes>"
      ]
     },
     "metadata": {},
     "output_type": "display_data"
    }
   ],
   "source": [
    "sns.set_style('darkgrid', {'axes.facecolor': '0.9'})\n",
    "\n",
    "# ROC curve for training set\n",
    "ax1 = plt.figure(figsize=(5, 4))\n",
    "lw = 2\n",
    "plt.plot(train_fpr, train_tpr, color='darkorange',\n",
    "         lw=lw, label='ROC curve')\n",
    "plt.plot([0, 1], [0, 1], color='navy', lw=lw, linestyle='--')\n",
    "plt.xlim([0.0, 1.0])\n",
    "plt.ylim([0.0, 1.05])\n",
    "plt.yticks([i/20.0 for i in range(21)])\n",
    "plt.xticks([i/20.0 for i in range(21)])\n",
    "plt.xlabel('False Positive Rate')\n",
    "plt.ylabel('True Positive Rate')\n",
    "plt.title('Receiver operating characteristic (ROC) Curve for Training Set')\n",
    "plt.legend(loc='lower right')\n",
    "print('Training AUC: {}'.format(auc(train_fpr, train_tpr)))\n",
    "plt.show()"
   ]
  },
  {
   "cell_type": "code",
   "execution_count": 232,
   "metadata": {},
   "outputs": [
    {
     "name": "stdout",
     "output_type": "stream",
     "text": [
      "Test Accuracy Score:  0.9416666666666667\n",
      "Train Accuracy Score:  0.9527777777777777\n",
      "\n",
      "\n",
      "Test Precision Score:  0.7619047619047619\n",
      "Train Precision Score:  0.8518518518518519\n",
      "\n",
      "\n",
      "Test Recall Score:  0.64\n",
      "Train Recall Score:  0.6388888888888888\n",
      "\n",
      "\n",
      "Test F1 Score:  0.6956521739130435\n",
      "Train F1 Score:  0.7301587301587301\n"
     ]
    }
   ],
   "source": [
    "# Print out scores \n",
    "from sklearn.metrics import accuracy_score, precision_score, recall_score, f1_score\n",
    "print('Test Accuracy Score: ', accuracy_score(y_test, y_hat_test))\n",
    "print('Train Accuracy Score: ', accuracy_score(y_train, y_hat_train))\n",
    "print('\\n')\n",
    "print('Test Precision Score: ', precision_score(y_test, y_hat_test))\n",
    "print('Train Precision Score: ', precision_score(y_train, y_hat_train))\n",
    "print('\\n')\n",
    "print('Test Recall Score: ', recall_score(y_test, y_hat_test))\n",
    "print('Train Recall Score: ', recall_score(y_train, y_hat_train))\n",
    "print('\\n')\n",
    "print('Test F1 Score: ', f1_score(y_test, y_hat_test))\n",
    "print('Train F1 Score: ', f1_score(y_train, y_hat_train))"
   ]
  },
  {
   "cell_type": "code",
   "execution_count": 251,
   "metadata": {},
   "outputs": [
    {
     "name": "stderr",
     "output_type": "stream",
     "text": [
      "/opt/anaconda3/lib/python3.8/site-packages/sklearn/utils/validation.py:73: DataConversionWarning: A column-vector y was passed when a 1d array was expected. Please change the shape of y to (n_samples, ), for example using ravel().\n",
      "  return f(**kwargs)\n"
     ]
    },
    {
     "data": {
      "text/plain": [
       "0.9291666666666667"
      ]
     },
     "execution_count": 251,
     "metadata": {},
     "output_type": "execute_result"
    }
   ],
   "source": [
    "# Use Support Vector Machine to improve model performance \n",
    "clf = svm.SVC(probability=True)\n",
    "clf.fit(X_train, y_train)\n",
    "\n",
    "clf.score(X_test, y_test)"
   ]
  },
  {
   "cell_type": "markdown",
   "metadata": {},
   "source": [
    "After fine tuning our features, our scores went up across the board. In conclusion, what most impacts expected income are type of school: engineering, for sports fans, liberal arts schools, research universities, Asian enrollment, non-resident enrollment, women enrollment, and rank (top 50 and top 100). "
   ]
  },
  {
   "cell_type": "code",
   "execution_count": 233,
   "metadata": {},
   "outputs": [
    {
     "name": "stdout",
     "output_type": "stream",
     "text": [
      "                           Logit Regression Results                           \n",
      "==============================================================================\n",
      "Dep. Variable:             over_60000   No. Observations:                  960\n",
      "Model:                          Logit   Df Residuals:                      950\n",
      "Method:                           MLE   Df Model:                            9\n",
      "Date:                Mon, 15 Feb 2021   Pseudo R-squ.:                  0.5823\n",
      "Time:                        20:40:01   Log-Likelihood:                -131.28\n",
      "converged:                       True   LL-Null:                       -314.27\n",
      "Covariance Type:            nonrobust   LLR p-value:                 2.452e-73\n",
      "======================================================================================================\n",
      "                                         coef    std err          z      P>|z|      [0.025      0.975]\n",
      "------------------------------------------------------------------------------------------------------\n",
      "const                                 -0.1781      0.854     -0.209      0.835      -1.852       1.496\n",
      "engineering                            3.4183      0.912      3.748      0.000       1.631       5.206\n",
      "for_sports_fans                        1.6713      0.433      3.858      0.000       0.822       2.520\n",
      "liberal_arts_school                    1.5505      0.414      3.748      0.000       0.740       2.361\n",
      "research_university                   -1.9078      0.655     -2.915      0.004      -3.191      -0.625\n",
      "Asian_enrollment_percentage           23.7254      3.279      7.235      0.000      17.298      30.153\n",
      "non_resident_enrollment_percentage     6.3865      2.103      3.037      0.002       2.264      10.509\n",
      "women_enrollment_percentage           -9.4998      1.587     -5.986      0.000     -12.610      -6.389\n",
      "school_rank_top_50                     4.6797      0.849      5.514      0.000       3.016       6.343\n",
      "school_rank_top_100                    2.8388      0.752      3.774      0.000       1.365       4.313\n",
      "======================================================================================================\n"
     ]
    }
   ],
   "source": [
    "print(result.summary())"
   ]
  },
  {
   "cell_type": "code",
   "execution_count": 206,
   "metadata": {},
   "outputs": [],
   "source": [
    "coef = [3.4183, 1.6713, 1.5505, -1.9078, 23.7254, 6.3865, -9.4998, 4.6797, 2.8388]\n",
    "features = ['engineering', 'for_sports_fans', 'liberal_arts_school', 'research_university', 'Asian_enrollment_percentage', 'non_resident_enrollment_percentage', 'women_enrollment_percentage', 'school_rank_top_50', 'school_rank_top_100']\n",
    "\n",
    "features_df = pd.DataFrame({'coef': coef, 'features':features})\n",
    "features_df.sort_values(by='coef', inplace=True)"
   ]
  },
  {
   "cell_type": "code",
   "execution_count": 252,
   "metadata": {},
   "outputs": [
    {
     "data": {
      "text/plain": [
       "Text(0.5, 1.0, 'Impact School Features Have on Expected Income of $60,000 or More')"
      ]
     },
     "execution_count": 252,
     "metadata": {},
     "output_type": "execute_result"
    },
    {
     "data": {
      "image/png": "[encoded data removed]",
      "text/plain": [
       "<Figure size 432x288 with 1 Axes>"
      ]
     },
     "metadata": {},
     "output_type": "display_data"
    }
   ],
   "source": [
    "ax = sns.barplot(x='coef', y='features', data=features_df)\n",
    "plt.xlabel('Impact on Expected Income')\n",
    "plt.ylabel('Features')\n",
    "plt.title('Impact School Features Have on Expected Income of $60,000 or More')"
   ]
  },
  {
   "cell_type": "code",
   "execution_count": 250,
   "metadata": {},
   "outputs": [
    {
     "data": {
      "image/png": "[encoded data removed]",
      "text/plain": [
       "<Figure size 432x288 with 1 Axes>"
      ]
     },
     "metadata": {},
     "output_type": "display_data"
    }
   ],
   "source": [
    "# Visual for presentation \n",
    "coef = [3.4183, 1.6713, 1.5505, -1.9078, 6.3865, 4.6797, 2.8388]\n",
    "features = ['engineering', 'for_sports_fans', 'liberal_arts_school', 'research_university', 'non_resident_enrollment_percentage', 'school_rank_top_50', 'school_rank_top_100']\n",
    "present_features_df = pd.DataFrame({'coef': coef, 'features':features})\n",
    "present_features_df.sort_values(by='coef', inplace=True)\n",
    "\n",
    "\n",
    "sns.barplot(x='coef', y='features', palette='Greens', data=present_features_df)\n",
    "plt.xlabel('Impact on Expected Income')\n",
    "plt.ylabel('Features')\n",
    "plt.title('Impact School Features Have on Expected Income of $60,000 or More');\n"
   ]
  },
  {
   "cell_type": "markdown",
   "metadata": {},
   "source": [
    "Results: non-resident enrollment, school rank, engineering, for sports fans, and liberal arts schools have a positive impact on expected salary. Research universities seem to have a negative impact on salary. "
   ]
  }
 ],
 "metadata": {
  "kernelspec": {
   "display_name": "learn-env",
   "language": "python",
   "name": "learn-env"
  },
  "language_info": {
   "codemirror_mode": {
    "name": "ipython",
    "version": 3
   },
   "file_extension": ".py",
   "mimetype": "text/x-python",
   "name": "python",
   "nbconvert_exporter": "python",
   "pygments_lexer": "ipython3",
   "version": "3.8.3"
  }
 },
 "nbformat": 4,
 "nbformat_minor": 4
}
